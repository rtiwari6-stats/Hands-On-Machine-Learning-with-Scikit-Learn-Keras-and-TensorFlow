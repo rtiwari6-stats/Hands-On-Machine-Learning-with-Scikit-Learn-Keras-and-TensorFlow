{
 "cells": [
  {
   "cell_type": "markdown",
   "metadata": {
    "cell_style": "center",
    "id": "SJNkHyZ3cWTN"
   },
   "source": [
    "<h1>\n",
    "<center>CFRM 421/521, Spring 2022</center>\n",
    "</h1>\n",
    "\n",
    "<h1>\n",
    "<center>Rohan Tiwari</center>\n",
    "</h1>\n",
    "\n",
    "<h1>\n",
    "<center>Homework 2</center>\n",
    "</h1>\n",
    "\n",
    "* **Due: Monday, May 2, 2022, 11:59 PM**\n",
    "\n",
    "\n",
    "* Total marks: 41\n",
    "\n",
    "\n",
    "* Late submissions are allowed, but a 20% penalty per day applies. Your last submission is considered for calculating the penalty.\n",
    "\n",
    "\n",
    "*  Use this Jupyter notebook as a template for your solutions. **Your solution must be submitted as one Jupyter notebook on Canvas and one PDF file on Gradescope.** The notebook must be already run, that is, make sure that you have run all your code, save the notebook, and then when you reopen the notebook, checked that all output appears as expected. You are allowed to use code from the textbook, textbook website, or lecture notes."
   ]
  },
  {
   "cell_type": "markdown",
   "metadata": {
    "id": "3RyeQ5M9cWTP"
   },
   "source": [
    "# 1. Random forest for time series data [13 marks]\n",
    "\n",
    "In this question you will work with the NYSE dataset. Only 3 time series in this dataset will be use: `DJ_return` ($a_t$), `log_volatility` ($b_t$), and `log_volume` ($c_t$). Download the data as a csv file from [Canvas](https://canvas.uw.edu/files/91091313/download?download_frd=1). The data was originally obtained from the R library ISLR2, and you can read the documentation for the dataset [here](https://cran.rstudio.com/web/packages/ISLR2/ISLR2.pdf), which explains the meaning of the variables.\n",
    "\n",
    "You want to predict the 1-step ahead value of `log_volume` $c_{t+1}$ using the previous values of this variable and the other two variables (`DJ_return` and `log_volatility`) up to 5 lags. So the features are $c_{t},\\dots,c_{t-4},b_{t},\\dots,b_{t-4},a_{t},\\dots,a_{t-4}$.\n",
    "\n",
    "If the data is stored in a file named `NYSE.csv` in your working directory, then loading the data can be done using the code below."
   ]
  },
  {
   "cell_type": "code",
   "execution_count": 1,
   "metadata": {
    "colab": {
     "base_uri": "https://localhost:8080/",
     "height": 206
    },
    "id": "GKfSZYUNcWTP",
    "outputId": "5f37683c-4ba7-4c1b-d47e-2c30cfb78707"
   },
   "outputs": [
    {
     "data": {
      "text/html": [
       "<div>\n",
       "<style scoped>\n",
       "    .dataframe tbody tr th:only-of-type {\n",
       "        vertical-align: middle;\n",
       "    }\n",
       "\n",
       "    .dataframe tbody tr th {\n",
       "        vertical-align: top;\n",
       "    }\n",
       "\n",
       "    .dataframe thead th {\n",
       "        text-align: right;\n",
       "    }\n",
       "</style>\n",
       "<table border=\"1\" class=\"dataframe\">\n",
       "  <thead>\n",
       "    <tr style=\"text-align: right;\">\n",
       "      <th></th>\n",
       "      <th>date</th>\n",
       "      <th>day_of_week</th>\n",
       "      <th>DJ_return</th>\n",
       "      <th>log_volume</th>\n",
       "      <th>log_volatility</th>\n",
       "      <th>train</th>\n",
       "    </tr>\n",
       "  </thead>\n",
       "  <tbody>\n",
       "    <tr>\n",
       "      <th>0</th>\n",
       "      <td>1962-12-03</td>\n",
       "      <td>mon</td>\n",
       "      <td>-0.004461</td>\n",
       "      <td>0.032573</td>\n",
       "      <td>-13.127403</td>\n",
       "      <td>True</td>\n",
       "    </tr>\n",
       "    <tr>\n",
       "      <th>1</th>\n",
       "      <td>1962-12-04</td>\n",
       "      <td>tues</td>\n",
       "      <td>0.007813</td>\n",
       "      <td>0.346202</td>\n",
       "      <td>-11.749305</td>\n",
       "      <td>True</td>\n",
       "    </tr>\n",
       "    <tr>\n",
       "      <th>2</th>\n",
       "      <td>1962-12-05</td>\n",
       "      <td>wed</td>\n",
       "      <td>0.003845</td>\n",
       "      <td>0.525306</td>\n",
       "      <td>-11.665609</td>\n",
       "      <td>True</td>\n",
       "    </tr>\n",
       "    <tr>\n",
       "      <th>3</th>\n",
       "      <td>1962-12-06</td>\n",
       "      <td>thur</td>\n",
       "      <td>-0.003462</td>\n",
       "      <td>0.210182</td>\n",
       "      <td>-11.626772</td>\n",
       "      <td>True</td>\n",
       "    </tr>\n",
       "    <tr>\n",
       "      <th>4</th>\n",
       "      <td>1962-12-07</td>\n",
       "      <td>fri</td>\n",
       "      <td>0.000568</td>\n",
       "      <td>0.044187</td>\n",
       "      <td>-11.728130</td>\n",
       "      <td>True</td>\n",
       "    </tr>\n",
       "  </tbody>\n",
       "</table>\n",
       "</div>"
      ],
      "text/plain": [
       "         date day_of_week  DJ_return  log_volume  log_volatility  train\n",
       "0  1962-12-03         mon  -0.004461    0.032573      -13.127403   True\n",
       "1  1962-12-04        tues   0.007813    0.346202      -11.749305   True\n",
       "2  1962-12-05         wed   0.003845    0.525306      -11.665609   True\n",
       "3  1962-12-06        thur  -0.003462    0.210182      -11.626772   True\n",
       "4  1962-12-07         fri   0.000568    0.044187      -11.728130   True"
      ]
     },
     "execution_count": 1,
     "metadata": {},
     "output_type": "execute_result"
    }
   ],
   "source": [
    "import os\n",
    "import pandas as pd\n",
    "data = pd.read_csv(\"NYSE.csv\")\n",
    "data.head()"
   ]
  },
  {
   "cell_type": "markdown",
   "metadata": {
    "id": "2TFAell6cWTQ"
   },
   "source": [
    "## (a) [3 marks]\n",
    "\n",
    "Create the feature matrix `X` and the target variable `y`. Print at least the first 2 rows of `X` and `y` (it is acceptable that not every element of the rows are printed)."
   ]
  },
  {
   "cell_type": "markdown",
   "metadata": {
    "id": "LgPHRvhYcWTQ"
   },
   "source": [
    "**[Add your solution here]**"
   ]
  },
  {
   "cell_type": "code",
   "execution_count": 2,
   "metadata": {
    "colab": {
     "base_uri": "https://localhost:8080/",
     "height": 363
    },
    "id": "STnkdoWhTXuq",
    "outputId": "9ed256c7-b8b8-4407-b481-ca9b98ac67c9"
   },
   "outputs": [
    {
     "data": {
      "text/html": [
       "<div>\n",
       "<style scoped>\n",
       "    .dataframe tbody tr th:only-of-type {\n",
       "        vertical-align: middle;\n",
       "    }\n",
       "\n",
       "    .dataframe tbody tr th {\n",
       "        vertical-align: top;\n",
       "    }\n",
       "\n",
       "    .dataframe thead th {\n",
       "        text-align: right;\n",
       "    }\n",
       "</style>\n",
       "<table border=\"1\" class=\"dataframe\">\n",
       "  <thead>\n",
       "    <tr style=\"text-align: right;\">\n",
       "      <th></th>\n",
       "      <th>DJ_return</th>\n",
       "      <th>log_volume</th>\n",
       "      <th>log_volatility</th>\n",
       "    </tr>\n",
       "  </thead>\n",
       "  <tbody>\n",
       "    <tr>\n",
       "      <th>0</th>\n",
       "      <td>-0.004461</td>\n",
       "      <td>0.032573</td>\n",
       "      <td>-13.127403</td>\n",
       "    </tr>\n",
       "    <tr>\n",
       "      <th>1</th>\n",
       "      <td>0.007813</td>\n",
       "      <td>0.346202</td>\n",
       "      <td>-11.749305</td>\n",
       "    </tr>\n",
       "    <tr>\n",
       "      <th>2</th>\n",
       "      <td>0.003845</td>\n",
       "      <td>0.525306</td>\n",
       "      <td>-11.665609</td>\n",
       "    </tr>\n",
       "    <tr>\n",
       "      <th>3</th>\n",
       "      <td>-0.003462</td>\n",
       "      <td>0.210182</td>\n",
       "      <td>-11.626772</td>\n",
       "    </tr>\n",
       "    <tr>\n",
       "      <th>4</th>\n",
       "      <td>0.000568</td>\n",
       "      <td>0.044187</td>\n",
       "      <td>-11.728130</td>\n",
       "    </tr>\n",
       "    <tr>\n",
       "      <th>5</th>\n",
       "      <td>-0.010824</td>\n",
       "      <td>0.133246</td>\n",
       "      <td>-10.872526</td>\n",
       "    </tr>\n",
       "    <tr>\n",
       "      <th>6</th>\n",
       "      <td>0.000124</td>\n",
       "      <td>-0.011528</td>\n",
       "      <td>-10.977797</td>\n",
       "    </tr>\n",
       "    <tr>\n",
       "      <th>7</th>\n",
       "      <td>0.003358</td>\n",
       "      <td>0.001607</td>\n",
       "      <td>-11.012360</td>\n",
       "    </tr>\n",
       "    <tr>\n",
       "      <th>8</th>\n",
       "      <td>-0.003296</td>\n",
       "      <td>-0.106437</td>\n",
       "      <td>-11.047108</td>\n",
       "    </tr>\n",
       "    <tr>\n",
       "      <th>9</th>\n",
       "      <td>0.004469</td>\n",
       "      <td>-0.138269</td>\n",
       "      <td>-11.022063</td>\n",
       "    </tr>\n",
       "  </tbody>\n",
       "</table>\n",
       "</div>"
      ],
      "text/plain": [
       "   DJ_return  log_volume  log_volatility\n",
       "0  -0.004461    0.032573      -13.127403\n",
       "1   0.007813    0.346202      -11.749305\n",
       "2   0.003845    0.525306      -11.665609\n",
       "3  -0.003462    0.210182      -11.626772\n",
       "4   0.000568    0.044187      -11.728130\n",
       "5  -0.010824    0.133246      -10.872526\n",
       "6   0.000124   -0.011528      -10.977797\n",
       "7   0.003358    0.001607      -11.012360\n",
       "8  -0.003296   -0.106437      -11.047108\n",
       "9   0.004469   -0.138269      -11.022063"
      ]
     },
     "execution_count": 2,
     "metadata": {},
     "output_type": "execute_result"
    }
   ],
   "source": [
    "data = data.drop(['date', 'day_of_week', 'train'], axis=1)\n",
    "data.head(10)"
   ]
  },
  {
   "cell_type": "code",
   "execution_count": 7,
   "metadata": {
    "colab": {
     "base_uri": "https://localhost:8080/"
    },
    "id": "TMX0WZC1N661",
    "outputId": "fc4fb08b-6251-4484-f24d-58a45ad26c71"
   },
   "outputs": [
    {
     "data": {
      "text/plain": [
       "(6046, 15)"
      ]
     },
     "execution_count": 7,
     "metadata": {},
     "output_type": "execute_result"
    }
   ],
   "source": [
    "# import numpy as np\n",
    "# def ts_split_X(ts, feature_steps=5, target_steps=1):\n",
    "#     n_obs = len(ts) - feature_steps - target_steps + 1\n",
    "#     X = np.array([ts[idx:idx + feature_steps] for idx in range(n_obs)])\n",
    "#     #y = np.array([ts[idx + feature_steps:idx + feature_steps + target_steps]\n",
    "#                   #for idx in range(n_obs)])\n",
    "#     return X\n",
    "\n",
    "# # X_train = data.iloc[:4281, :]\n",
    "# # X1_train = ts_split_X(X_train['DJ_return'])\n",
    "# # X2_train = ts_split_X(X_train['log_volume'])\n",
    "# # X3_train = ts_split_X(X_train['log_volatility'])\n",
    "# # X = np.column_stack((X1_train, X2_train, X3_train))\n",
    "\n",
    "# # X.shape\n",
    "\n",
    "# #full datset\n",
    "# X1_train = ts_split_X(data['DJ_return'])\n",
    "# X2_train = ts_split_X(data['log_volume'])\n",
    "# X3_train = ts_split_X(data['log_volatility'])\n",
    "# X = np.column_stack((X1_train, X2_train, X3_train))\n",
    "import numpy as np\n",
    "def ts_split(ts, feature_steps=5, target_steps=1):\n",
    "    n_obs = len(ts) - feature_steps - target_steps + 1\n",
    "    X = np.array([ts[idx:idx + feature_steps] for idx in range(n_obs)])\n",
    "    y = np.array([ts[idx + feature_steps:idx + feature_steps + target_steps]\n",
    "                  for idx in range(n_obs)])\n",
    "    return X, y\n",
    "\n",
    "X1 = ts_split(data['log_volume'])[0]\n",
    "X2 = ts_split(data['log_volatility'])[0]\n",
    "X3 = ts_split(data['DJ_return'])[0]\n",
    "y = ts_split(data['log_volume'])[1]\n",
    "\n",
    "X =  np.hstack((X1, X2, X3))\n",
    "\n",
    "\n",
    "X.shape"
   ]
  },
  {
   "cell_type": "code",
   "execution_count": 8,
   "metadata": {
    "colab": {
     "base_uri": "https://localhost:8080/"
    },
    "id": "MZ-50I8XZTfH",
    "outputId": "cf08bad8-81b3-4ae7-fb62-bac800b70adf"
   },
   "outputs": [
    {
     "data": {
      "text/plain": [
       "array([[ 3.25730000e-02,  3.46202000e-01,  5.25306000e-01,\n",
       "         2.10182000e-01,  4.41870000e-02, -1.31274026e+01,\n",
       "        -1.17493047e+01, -1.16656090e+01, -1.16267724e+01,\n",
       "        -1.17281302e+01, -4.46100000e-03,  7.81300000e-03,\n",
       "         3.84500000e-03, -3.46200000e-03,  5.68000000e-04],\n",
       "       [ 3.46202000e-01,  5.25306000e-01,  2.10182000e-01,\n",
       "         4.41870000e-02,  1.33246000e-01, -1.17493047e+01,\n",
       "        -1.16656090e+01, -1.16267724e+01, -1.17281302e+01,\n",
       "        -1.08725263e+01,  7.81300000e-03,  3.84500000e-03,\n",
       "        -3.46200000e-03,  5.68000000e-04, -1.08240000e-02]])"
      ]
     },
     "execution_count": 8,
     "metadata": {},
     "output_type": "execute_result"
    }
   ],
   "source": [
    "X[:2,]"
   ]
  },
  {
   "cell_type": "code",
   "execution_count": 9,
   "metadata": {
    "colab": {
     "base_uri": "https://localhost:8080/"
    },
    "id": "gdMZ_IvCKqTr",
    "outputId": "cee9251d-f078-4645-97a7-7f66b08eed0b"
   },
   "outputs": [
    {
     "data": {
      "text/plain": [
       "(6046, 1)"
      ]
     },
     "execution_count": 9,
     "metadata": {},
     "output_type": "execute_result"
    }
   ],
   "source": [
    "# import numpy as np\n",
    "# def ts_split_y(ts, feature_steps=5, target_steps=1):\n",
    "#     n_obs = len(ts) - feature_steps - target_steps + 1\n",
    "#    # X = np.array([ts[idx:idx + feature_steps] for idx in range(n_obs)])\n",
    "#     y = np.array([ts[idx + feature_steps:idx + feature_steps + target_steps]\n",
    "#                   for idx in range(n_obs)])\n",
    "#     return y\n",
    "\n",
    "\n",
    "# # y = ts_split_y(X_train['log_volume'])\n",
    "\n",
    "# y = ts_split_y(data['log_volume'])\n",
    "\n",
    "y.shape"
   ]
  },
  {
   "cell_type": "code",
   "execution_count": 10,
   "metadata": {
    "colab": {
     "base_uri": "https://localhost:8080/"
    },
    "id": "GhnG6_OgLHCY",
    "outputId": "130e3ab7-2776-4e50-fa1d-c2d34ccc3f6d"
   },
   "outputs": [
    {
     "data": {
      "text/plain": [
       "array([[ 0.133246],\n",
       "       [-0.011528]])"
      ]
     },
     "execution_count": 10,
     "metadata": {},
     "output_type": "execute_result"
    }
   ],
   "source": [
    "y[:2, ]"
   ]
  },
  {
   "cell_type": "markdown",
   "metadata": {
    "id": "OYbkjx-VcWTQ"
   },
   "source": [
    "## (b)  [4 marks]\n",
    "\n",
    "Consider fitting a random forest to predict the 1-step ahead value of `log_volume`. The random forest must include the argument `random_state=42`, and it is useful to also include `n_jobs=-1` (you can use `n_job=-1` throughout this homework wherever it is avaliable). Use 3-fold time series CV, with the test set split 50% into a validation set and 50% into the actual test set, to tune the hyperparameters `n_estimators` taking the values  100, 500, 750, and the cost-complexity pruning parameter $\\alpha$ taking the values $10^{-k}$, $k=0,1,\\dots,9$. The performance measure is RMSE. Report the best hyperparameters."
   ]
  },
  {
   "cell_type": "code",
   "execution_count": 16,
   "metadata": {
    "id": "iIL441Oy0zfo"
   },
   "outputs": [],
   "source": [
    "from sklearn.model_selection import TimeSeriesSplit\n",
    "from sklearn.metrics import mean_squared_error\n",
    "import matplotlib.pyplot as plt\n",
    "from sklearn.ensemble import RandomForestRegressor\n",
    "\n",
    "\n",
    "n_estimators_list = [100, 500, 750]\n",
    "alpha_list = [10**0, 10**-1, 10**-2,10**-3, 10**-4, 10**-5, 10**-6, 10**-7, 10**-8, 10**-9]\n",
    "\n",
    "def time_series_valid_test(X, y, n_split, valid_or_test, optimal_par=None):\n",
    "    tscv = TimeSeriesSplit(n_splits=n_split)\n",
    "    rf_rmse = []\n",
    "    i = 0\n",
    "    series_len = y.size\n",
    "    for train_index, test_index in tscv.split(X):\n",
    "        i += 1\n",
    "        # Break test set into 50% validation set, 50% test set\n",
    "        break_test_ind = int(test_index[0] + 0.5*(test_index[-1]-test_index[0]))\n",
    "        valid_index = np.array(list(range(test_index[0],break_test_ind)))\n",
    "        test_index = np.array(list(range(break_test_ind,test_index[-1])))\n",
    "\n",
    "        # Split\n",
    "        X_train, X_valid, X_test = X[train_index], X[valid_index], X[test_index]\n",
    "        y_train, y_valid, y_test = y[train_index], y[valid_index], y[test_index]\n",
    "\n",
    "        # Tuning\n",
    "        if valid_or_test == \"valid\":\n",
    "            for ccp_alpha in alpha_list:\n",
    "                for n_estimators in n_estimators_list:\n",
    "                    model_rf = RandomForestRegressor(random_state=42, \n",
    "                               ccp_alpha=ccp_alpha, n_estimators=n_estimators)\n",
    "                    model_rf.fit(X_train, y_train.ravel())\n",
    "                    y_val_rf = model_rf.predict(X_valid)\n",
    "                    rf_rmse.append(np.sqrt(mean_squared_error(y_valid, y_val_rf)))\n",
    "        \n",
    "        # Evalulate on test set\n",
    "        if valid_or_test == \"test\":\n",
    "            model_rf = RandomForestRegressor(random_state=42, \n",
    "                       ccp_alpha=optimal_par[0], n_estimators=optimal_par[1])\n",
    "            model_rf.fit(X_train, y_train.ravel())\n",
    "            y_test_rf = model_rf.predict(X_test)\n",
    "            rf_rmse.append(np.sqrt(mean_squared_error(y_test, y_test_rf)))\n",
    "            \n",
    "            # Plot the prediction for the last CV fold\n",
    "            if i == n_split:\n",
    "                plt.plot(range(series_len-test_index.size,series_len),\n",
    "                         y_test_rf, label=\"1-steps ahead prediction\")\n",
    "                plt.plot(range(series_len-test_index.size,series_len),\n",
    "                         y_test, label=\"True value\")\n",
    "                plt.legend(loc=\"upper left\")\n",
    "    \n",
    "    # Average RMSE over CV folds\n",
    "    if valid_or_test == \"valid\":\n",
    "        rf_rmse = np.mean(np.array(rf_rmse).reshape(\n",
    "            n_split, len(alpha_list)*len(n_estimators_list)), axis=0)\n",
    "        return rf_rmse\n",
    "    if valid_or_test == \"test\":\n",
    "        rf_rmse = np.mean(rf_rmse)\n",
    "        return rf_rmse, y_test_rf"
   ]
  },
  {
   "cell_type": "code",
   "execution_count": 14,
   "metadata": {
    "colab": {
     "base_uri": "https://localhost:8080/"
    },
    "id": "NbbG31Jck-TA",
    "outputId": "e7addbc2-3276-4fec-9779-cf73a7f27b45"
   },
   "outputs": [
    {
     "name": "stdout",
     "output_type": "stream",
     "text": [
      "['(ccp_alpha, n_estimators):', [1, 100]]\n",
      "0.2358102502325389\n",
      "['(ccp_alpha, n_estimators):', [1, 500]]\n",
      "0.23583279057420017\n",
      "['(ccp_alpha, n_estimators):', [1, 750]]\n",
      "0.23582412722547763\n",
      "['(ccp_alpha, n_estimators):', [0.1, 100]]\n",
      "0.2358102502325389\n",
      "['(ccp_alpha, n_estimators):', [0.1, 500]]\n",
      "0.23583279057420017\n",
      "['(ccp_alpha, n_estimators):', [0.1, 750]]\n",
      "0.23582412722547763\n",
      "['(ccp_alpha, n_estimators):', [0.01, 100]]\n",
      "0.1931776501341703\n",
      "['(ccp_alpha, n_estimators):', [0.01, 500]]\n",
      "0.19289278821198516\n",
      "['(ccp_alpha, n_estimators):', [0.01, 750]]\n",
      "0.1928692930007393\n",
      "['(ccp_alpha, n_estimators):', [0.001, 100]]\n",
      "0.1742571823815323\n",
      "['(ccp_alpha, n_estimators):', [0.001, 500]]\n",
      "0.1741139415851224\n",
      "['(ccp_alpha, n_estimators):', [0.001, 750]]\n",
      "0.17402380547187205\n",
      "['(ccp_alpha, n_estimators):', [0.0001, 100]]\n",
      "0.16132624100564838\n",
      "['(ccp_alpha, n_estimators):', [0.0001, 500]]\n",
      "0.16110479140675354\n",
      "['(ccp_alpha, n_estimators):', [0.0001, 750]]\n",
      "0.16118102970655726\n",
      "['(ccp_alpha, n_estimators):', [1e-05, 100]]\n",
      "0.1608409994589393\n",
      "['(ccp_alpha, n_estimators):', [1e-05, 500]]\n",
      "0.1603776351406714\n",
      "['(ccp_alpha, n_estimators):', [1e-05, 750]]\n",
      "0.1604525452413842\n",
      "['(ccp_alpha, n_estimators):', [1e-06, 100]]\n",
      "0.16114731686916905\n",
      "['(ccp_alpha, n_estimators):', [1e-06, 500]]\n",
      "0.16053001991047358\n",
      "['(ccp_alpha, n_estimators):', [1e-06, 750]]\n",
      "0.16061237168794265\n",
      "['(ccp_alpha, n_estimators):', [1e-07, 100]]\n",
      "0.1612304117776293\n",
      "['(ccp_alpha, n_estimators):', [1e-07, 500]]\n",
      "0.1605466237281532\n",
      "['(ccp_alpha, n_estimators):', [1e-07, 750]]\n",
      "0.1606247525940114\n",
      "['(ccp_alpha, n_estimators):', [1e-08, 100]]\n",
      "0.1612330205584586\n",
      "['(ccp_alpha, n_estimators):', [1e-08, 500]]\n",
      "0.16054509429255723\n",
      "['(ccp_alpha, n_estimators):', [1e-08, 750]]\n",
      "0.16062537881149105\n",
      "['(ccp_alpha, n_estimators):', [1e-09, 100]]\n",
      "0.16123507642301327\n",
      "['(ccp_alpha, n_estimators):', [1e-09, 500]]\n",
      "0.16054554369906407\n",
      "['(ccp_alpha, n_estimators):', [1e-09, 750]]\n",
      "0.16062560069863865\n",
      "Minimum rmse is:  0.1603776351406714\n"
     ]
    }
   ],
   "source": [
    "# rf_rmse = time_series_valid_test(X_test, y_test, 3, \"valid\")\n",
    "rf_rmse = time_series_valid_test(X, y, 3, \"valid\")\n",
    "ind = 0\n",
    "min = 100\n",
    "for ccp_alpha in alpha_list:\n",
    "        for n_estimators in n_estimators_list:\n",
    "            print([\"(ccp_alpha, n_estimators):\",[ccp_alpha, n_estimators]])\n",
    "            print(rf_rmse[ind])\n",
    "            if rf_rmse[ind] < min:\n",
    "              min = rf_rmse[ind]\n",
    "            ind += 1\n",
    "\n",
    "print(\"Minimum rmse is: \", min)"
   ]
  },
  {
   "cell_type": "markdown",
   "metadata": {
    "id": "WLK1fXsGA0xY"
   },
   "source": [
    "Best hyperparameters are ['(ccp_alpha, n_estimators):', [1e-05, 500]]\n",
    " that minimize the rmse.  Minimum rmse is 0.1603776351406714"
   ]
  },
  {
   "cell_type": "markdown",
   "metadata": {
    "id": "a-sOkCs8cWTR"
   },
   "source": [
    "**[Add your solution here]**"
   ]
  },
  {
   "cell_type": "markdown",
   "metadata": {
    "id": "Pi7g3krvcWTR"
   },
   "source": [
    "## (c)  [2 marks]\n",
    "\n",
    "Using the same time series split as in (b), compute the RMSE of the best fitting model on the test set, and include a plot of the true values and predicted values on the test set of the last fold (the fold closest to the current time) of the CV."
   ]
  },
  {
   "cell_type": "code",
   "execution_count": 17,
   "metadata": {
    "colab": {
     "base_uri": "https://localhost:8080/",
     "height": 537
    },
    "id": "s5UmmqSyCCv_",
    "outputId": "f2c55bdd-a8b2-4f2f-a522-069e94c443fb"
   },
   "outputs": [
    {
     "data": {
      "text/plain": [
       "0.18693224107605255"
      ]
     },
     "execution_count": 17,
     "metadata": {},
     "output_type": "execute_result"
    },
    {
     "data": {
      "image/png": "[encoded data removed]",
      "text/plain": [
       "<Figure size 432x288 with 1 Axes>"
      ]
     },
     "metadata": {
      "needs_background": "light"
     },
     "output_type": "display_data"
    }
   ],
   "source": [
    "rf_rmse, y_test_rf = time_series_valid_test(X, y, 3, \"test\",  [1e-05, 500])\n",
    "\n",
    "rf_rmse"
   ]
  },
  {
   "cell_type": "markdown",
   "metadata": {
    "id": "2U0TYtaXcWTR"
   },
   "source": [
    "**[Add your solution here]**"
   ]
  },
  {
   "cell_type": "markdown",
   "metadata": {
    "id": "AUZEMKf_cWTR"
   },
   "source": [
    "## (d) [2 marks]\n",
    "\n",
    "It is often useful to check that your model is not worse than a very simple method of prediction. Compute the RMSE of a model that simply predicts the 1-step ahead value of `log_volume` $c_{t+1}$ as the current value $c_t$, and compare this to the best fitting random forest model."
   ]
  },
  {
   "cell_type": "code",
   "execution_count": 18,
   "metadata": {
    "colab": {
     "base_uri": "https://localhost:8080/"
    },
    "id": "n4KPXanQEgcj",
    "outputId": "29af7537-70a3-4e39-c328-3629b5300ab1"
   },
   "outputs": [
    {
     "data": {
      "text/plain": [
       "0.18890174010847652"
      ]
     },
     "execution_count": 18,
     "metadata": {},
     "output_type": "execute_result"
    }
   ],
   "source": [
    "from sklearn.linear_model import LinearRegression\n",
    "from sklearn.metrics import mean_squared_error\n",
    "from scipy.ndimage.interpolation import shift\n",
    "\n",
    "\n",
    "\n",
    "# X_simple = data['log_volume'].to_numpy()\n",
    "# y_simple = data['log_volume'].to_numpy()\n",
    "\n",
    "y_temp = data['log_volume']\n",
    "y_pred = data['log_volume']\n",
    "\n",
    "np.sqrt(mean_squared_error(y_pred[:len(y_pred)-1], y_temp[1:]))\n",
    "\n"
   ]
  },
  {
   "cell_type": "markdown",
   "metadata": {
    "id": "SgDTlzkjl92h"
   },
   "source": [
    "The best fitting random forest model does better than the simple method of prediction as it has a lower rmse. "
   ]
  },
  {
   "cell_type": "markdown",
   "metadata": {
    "id": "BZ6XoRjBcWTS"
   },
   "source": [
    "**[Add your solution here]**"
   ]
  },
  {
   "cell_type": "markdown",
   "metadata": {
    "id": "rWBKk6UzcWTS"
   },
   "source": [
    "## (e) [2 marks]\n",
    "\n",
    "Compute the feature importances of the best fitting model. Which feature is the most important and what is its feature importance value?"
   ]
  },
  {
   "cell_type": "code",
   "execution_count": 21,
   "metadata": {
    "colab": {
     "base_uri": "https://localhost:8080/"
    },
    "id": "kJCxBvBTmnER",
    "outputId": "0a0f7a35-6fae-4c8a-8046-086ae87070f3"
   },
   "outputs": [
    {
     "data": {
      "text/plain": [
       "array([0.05909577, 0.06289336, 0.04348415, 0.0371032 , 0.52852018,\n",
       "       0.01550909, 0.01223347, 0.01108555, 0.01269354, 0.0138164 ,\n",
       "       0.03372512, 0.02977974, 0.03705288, 0.03899174, 0.06401581])"
      ]
     },
     "execution_count": 21,
     "metadata": {},
     "output_type": "execute_result"
    }
   ],
   "source": [
    "\n",
    "model_rf = RandomForestRegressor(random_state=42, \n",
    "                       ccp_alpha=1e-05, n_estimators=500, n_jobs=-1)\n",
    "model_rf.fit(X,y.ravel())\n",
    "model_rf.feature_importances_"
   ]
  },
  {
   "cell_type": "code",
   "execution_count": 23,
   "metadata": {},
   "outputs": [
    {
     "data": {
      "image/png": "[encoded data removed]",
      "text/plain": [
       "<Figure size 432x288 with 1 Axes>"
      ]
     },
     "metadata": {
      "needs_background": "light"
     },
     "output_type": "display_data"
    },
    {
     "data": {
      "text/plain": [
       "0.5285201844665299"
      ]
     },
     "execution_count": 23,
     "metadata": {},
     "output_type": "execute_result"
    }
   ],
   "source": [
    "import matplotlib.pyplot as plt\n",
    "import pandas as pd\n",
    "\n",
    "\n",
    "feat_importances = pd.Series(model_rf.feature_importances_)\n",
    "feat_importances.plot(kind='barh')\n",
    "plt.title(\"Important features\")\n",
    "plt.show()\n",
    "max(feat_importances)\n"
   ]
  },
  {
   "cell_type": "markdown",
   "metadata": {
    "id": "YOtdImuEn5nD"
   },
   "source": [
    "The most important feature is the log_volume at t-4.  "
   ]
  },
  {
   "cell_type": "markdown",
   "metadata": {
    "id": "zVKO1Jb_cWTS"
   },
   "source": [
    "**[Add your solution here]**"
   ]
  },
  {
   "cell_type": "markdown",
   "metadata": {
    "id": "5yQ6lSQbcWTS"
   },
   "source": [
    "# 2. SVM classification and regression [11 marks]\n",
    "\n",
    "## (a) [2 marks]\n",
    "\n",
    "In this question, a SVM is used for classification for the MNIST dataset. The following code loads the MNIST dataset, creates the test set, and to reduce training time, takes a random sample of 2000 points from the full training set to use as your actual training set stored in `X` and `y`. Do not shuffle the data and do not use a standard scaler.\n",
    "\n",
    "Hint: Reading the solution to Question 9 in the Chapter 5 [Jupyter notebook](https://github.com/ageron/handson-ml2/blob/master/05_support_vector_machines.ipynb) on the textbook website may help with this question."
   ]
  },
  {
   "cell_type": "code",
   "execution_count": 2,
   "metadata": {
    "id": "v66Q0MJxcWTS"
   },
   "outputs": [],
   "source": [
    "import numpy as np\n",
    "import matplotlib as mlp\n",
    "import matplotlib.pyplot as plt\n",
    "import pandas as pd\n",
    "\n",
    "from sklearn.datasets import fetch_openml\n",
    "mnist = fetch_openml('mnist_784', version=1, as_frame=False, cache=True)\n",
    "mnist.target = mnist.target.astype(np.int8)\n",
    "X_train = mnist[\"data\"][:60000]\n",
    "X_test  = mnist[\"data\"][60000:]\n",
    "y_train = mnist[\"target\"][:60000]\n",
    "y_test  = mnist[\"target\"][60000:]"
   ]
  },
  {
   "cell_type": "code",
   "execution_count": null,
   "metadata": {
    "colab": {
     "base_uri": "https://localhost:8080/"
    },
    "id": "gVjDEEKocWTT",
    "outputId": "5359a616-7821-4a8f-9321-5f66eb466d6f"
   },
   "outputs": [
    {
     "data": {
      "text/plain": [
       "(2000, 784)"
      ]
     },
     "execution_count": 23,
     "metadata": {},
     "output_type": "execute_result"
    }
   ],
   "source": [
    "from sklearn.model_selection import StratifiedShuffleSplit\n",
    "\n",
    "N = 2000\n",
    "split_obj = StratifiedShuffleSplit(n_splits=1,\n",
    "                               test_size=N/60000, random_state=42)\n",
    "for other_idx, subsample_idx in split_obj.split(X_train, y_train):\n",
    "    X = X_train[subsample_idx]\n",
    "    y = y_train[subsample_idx]\n",
    "\n",
    "X.shape"
   ]
  },
  {
   "cell_type": "markdown",
   "metadata": {
    "id": "Xnn01AeDcWTT"
   },
   "source": [
    "**Task:** Consider fitting the linear SVM classifier (`LinearSVC`) with `max_iter=50000`. For this model, optimize the hyperparameter $C$ using 3-fold CV over the values $10^{-k}$, $k=0,1,\\dots,9$, where the performance measure is accuracy. What is the best $C$ and what is the accuracy in this case?"
   ]
  },
  {
   "cell_type": "code",
   "execution_count": null,
   "metadata": {
    "colab": {
     "base_uri": "https://localhost:8080/"
    },
    "id": "GlkvWgFwMVRO",
    "outputId": "62868ed6-96ce-4af0-8d14-3aea29efcdb4"
   },
   "outputs": [
    {
     "name": "stdout",
     "output_type": "stream",
     "text": [
      "best value of hyperparameters is:  LinearSVC(C=1e-07, max_iter=50000)\n",
      "accuracy is:  0.8624974299636969\n"
     ]
    }
   ],
   "source": [
    "from sklearn.model_selection import RandomizedSearchCV\n",
    "from sklearn.svm import LinearSVC\n",
    "import numpy as np\n",
    " \n",
    "params = {\"C\": [10**0, 10**-1, 10**-2,10**-3, 10**-4, 10**-5, 10**-6, 10**-7, 10**-8, 10**-9]}\n",
    "rd_search = RandomizedSearchCV(LinearSVC(max_iter=50000), params,random_state=42, cv=3,scoring=\"accuracy\", n_jobs=-1)\n",
    "rd_search.fit(X,y)\n",
    "\n",
    "print(\"best value of hyperparameters is: \", rd_search.best_estimator_)\n",
    "from sklearn.metrics import accuracy_score\n",
    "\n",
    "y_pred = rd_search.best_estimator_.predict(X)\n",
    "print(\"accuracy is: \", rd_search.best_score_)"
   ]
  },
  {
   "cell_type": "markdown",
   "metadata": {
    "id": "5jvN7YaacWTT"
   },
   "source": [
    "**[Add your solution here]**"
   ]
  },
  {
   "cell_type": "markdown",
   "metadata": {
    "id": "jfBikqyHcWTT"
   },
   "source": [
    "## (b) [2 marks]\n",
    "\n",
    "**Task:** Now consider fitting a SVM with a Gaussian RBF kernel and `max_iter=50000`. For this model, optimize the hyperparameters $C$ over the distrbution `uniform(1,10)` and $\\gamma$ over the distribution `reciprocal(0.001, 0.1)` with 10 random samples. Again, use 3-fold CV and the performance measure is accuracy. What are the best hyperparameters and what is the accuracy in this case?"
   ]
  },
  {
   "cell_type": "code",
   "execution_count": null,
   "metadata": {
    "colab": {
     "base_uri": "https://localhost:8080/"
    },
    "id": "qPWybvdPAI6b",
    "outputId": "cbc9036d-f41a-4738-f13d-305af81cff17"
   },
   "outputs": [
    {
     "name": "stdout",
     "output_type": "stream",
     "text": [
      "best value of hyperparameters is:  SVC(C=4.745401188473625, gamma=0.07969454818643928, max_iter=50000)\n",
      "accuracy is:  0.11250005627816723\n"
     ]
    }
   ],
   "source": [
    "from scipy.stats import reciprocal, uniform\n",
    "from sklearn.svm import SVC\n",
    "\n",
    "params = {\"gamma\": reciprocal(0.001, 0.1), \"C\": uniform(1, 10)}\n",
    "svm_rd_search_cv = RandomizedSearchCV(SVC(kernel='rbf', max_iter=50000), params, random_state=42, cv=3,scoring=\"accuracy\")\n",
    "svm_rd_search_cv.fit(X, y)\n",
    "print(\"best value of hyperparameters is: \", svm_rd_search_cv.best_estimator_)\n",
    "from sklearn.metrics import accuracy_score\n",
    "\n",
    "y_pred = svm_rd_search_cv.best_estimator_.predict(X)\n",
    "print(\"accuracy is: \", svm_rd_search_cv.best_score_)"
   ]
  },
  {
   "cell_type": "markdown",
   "metadata": {
    "id": "Hi3knjj1cWTU"
   },
   "source": [
    "**[Add your solution here]**"
   ]
  },
  {
   "cell_type": "markdown",
   "metadata": {
    "id": "jdvV4zBQcWTU"
   },
   "source": [
    "## (c) [2 mark]\n",
    "\n",
    "**Task:** Choose the best model in (a) and (b). Then for this model, evaluate the accuracy on the test set, which is stored in `X_test` and `y_test`."
   ]
  },
  {
   "cell_type": "markdown",
   "metadata": {
    "id": "l4l2qFeyG__C"
   },
   "source": [
    "Best model is Linear SVC due to better accuracy score."
   ]
  },
  {
   "cell_type": "code",
   "execution_count": null,
   "metadata": {
    "colab": {
     "base_uri": "https://localhost:8080/"
    },
    "id": "c6rGhoFpHEdh",
    "outputId": "acbd90b5-b6cb-4372-d92c-34181340a8e1"
   },
   "outputs": [
    {
     "name": "stdout",
     "output_type": "stream",
     "text": [
      "accuracy is:  0.8873\n"
     ]
    }
   ],
   "source": [
    "y_pred_test = rd_search.best_estimator_.predict(X_test)\n",
    "print(\"accuracy is: \", accuracy_score(y_test, y_pred_test))"
   ]
  },
  {
   "cell_type": "markdown",
   "metadata": {
    "id": "3URRxU79cWTU"
   },
   "source": [
    "**[Add your solution here]**"
   ]
  },
  {
   "cell_type": "markdown",
   "metadata": {
    "id": "FsH5-h5IcWTU"
   },
   "source": [
    "## (d) [3 marks]\n",
    "\n",
    "Consider the California housing data from Homework 1 using the same training and test set there. The data is obtained using the code below, which comes from Homework 1, and the training set is stored in `X` and `y`. Do not shuffle the data.\n",
    "\n",
    "Hint: Reading the solution to Question 10 in the Chapter 5 [Jupyter notebook](https://github.com/ageron/handson-ml2/blob/master/05_support_vector_machines.ipynb) on the textbook website may help with this question."
   ]
  },
  {
   "cell_type": "code",
   "execution_count": null,
   "metadata": {
    "id": "0iGJeXWTcWTU"
   },
   "outputs": [],
   "source": [
    "from sklearn.pipeline import Pipeline\n",
    "from sklearn.impute import SimpleImputer\n",
    "from sklearn.compose import ColumnTransformer\n",
    "from sklearn.preprocessing import StandardScaler, OneHotEncoder\n",
    "\n",
    "\n",
    "import os\n",
    "import tarfile\n",
    "from six.moves import urllib\n",
    "import numpy as np\n",
    "import pandas as pd\n",
    "from sklearn.model_selection import StratifiedShuffleSplit\n",
    "\n",
    "HOUSING_PATH = os.path.join(\"datasets\", \"housing\")\n",
    "\n",
    "def fetch_housing_data(housing_url, housing_path=HOUSING_PATH):\n",
    "    if not os.path.isdir(housing_path):\n",
    "        os.makedirs(housing_path)\n",
    "    tgz_path = os.path.join(housing_path, \"housing.tgz\")\n",
    "    urllib.request.urlretrieve(housing_url, tgz_path)\n",
    "    housing_tgz = tarfile.open(tgz_path)\n",
    "    housing_tgz.extractall(path=housing_path)\n",
    "    housing_tgz.close()\n",
    "\n",
    "def load_housing_data(housing_path=HOUSING_PATH):\n",
    "    csv_path = os.path.join(housing_path, \"housing.csv\")\n",
    "    return pd.read_csv(csv_path)\n",
    "\n",
    "HOUSING_URL = (\"https://raw.githubusercontent.com/ageron/\"+\n",
    "               \"handson-ml2/master/datasets/housing/housing.tgz\")\n",
    "fetch_housing_data(HOUSING_URL)\n",
    "data = load_housing_data()\n",
    "\n",
    "data[\"income_cat\"] = np.ceil(data[\"median_income\"] / 1.5)\n",
    "data[\"income_cat\"].where(data[\"income_cat\"] < 5, 5.0, inplace=True)\n",
    "split = StratifiedShuffleSplit(n_splits=1, test_size=0.2, random_state=42)\n",
    "for train_index, test_index in split.split(data, data[\"income_cat\"]):\n",
    "    strat_train_set = data.loc[train_index]\n",
    "    strat_test_set = data.loc[test_index]\n",
    "for set_ in (strat_train_set, strat_test_set):\n",
    "    set_.drop(\"income_cat\", axis=1, inplace=True)\n",
    "X_raw = strat_train_set.drop(\"median_house_value\", axis=1)\n",
    "y = strat_train_set[\"median_house_value\"].copy()\n",
    "\n",
    "num_pipeline = Pipeline([\n",
    "        ('imputer', SimpleImputer(strategy=\"median\")),\n",
    "        ('std_scaler', StandardScaler()),\n",
    "    ])\n",
    "num_features = X_raw.drop(\"ocean_proximity\", axis=1)\n",
    "num_attribs = list(num_features)\n",
    "cat_attribs = [\"ocean_proximity\"]\n",
    "full_pipeline = ColumnTransformer([\n",
    "        (\"num\", num_pipeline, num_attribs),\n",
    "        (\"cat\", OneHotEncoder(), cat_attribs),\n",
    "    ])\n",
    "\n",
    "X = full_pipeline.fit_transform(X_raw)\n",
    "X_test_raw = strat_test_set.drop(\"median_house_value\", axis=1)\n",
    "y_test = strat_test_set[\"median_house_value\"].copy()\n",
    "X_test = full_pipeline.transform(X_test_raw)"
   ]
  },
  {
   "cell_type": "markdown",
   "metadata": {
    "id": "6N5DbdhfcWTV"
   },
   "source": [
    "**Task:** Consider SVM regression with a Gaussian RBF kernel and a sigmoid kernel with `max_iter=50000`. For both models, use randomized search to choose good hyperparameter values for `C` and `gamma`, and set the arguement `random_state=42`. For both models, optimize the hyperparameters $C$ over the distrbution `uniform(1,10)` and $\\gamma$ over the distribution `reciprocal(0.001, 0.1)` with 10 random samples. Again, use 3-fold CV and the performance measure is MSE. What are the best hyperparameters and what is the MSE in this case?"
   ]
  },
  {
   "cell_type": "code",
   "execution_count": null,
   "metadata": {
    "colab": {
     "base_uri": "https://localhost:8080/"
    },
    "id": "LTXHO9tsJVm9",
    "outputId": "039be2b9-a718-460f-adf2-1363679221e6"
   },
   "outputs": [
    {
     "data": {
      "text/plain": [
       "RandomizedSearchCV(cv=3, estimator=SVR(max_iter=50000), n_jobs=-1,\n",
       "                   param_distributions={'C': <scipy.stats._distn_infrastructure.rv_frozen object at 0x7f0cc6bb1a90>,\n",
       "                                        'gamma': <scipy.stats._distn_infrastructure.rv_frozen object at 0x7f0cc6bb1fd0>},\n",
       "                   random_state=42, scoring='neg_mean_squared_error')"
      ]
     },
     "execution_count": 43,
     "metadata": {},
     "output_type": "execute_result"
    }
   ],
   "source": [
    "from sklearn.svm import SVR\n",
    "from sklearn.model_selection import RandomizedSearchCV\n",
    "from scipy.stats import reciprocal, uniform\n",
    "\n",
    "params = {\"gamma\": reciprocal(0.001, 0.1), \"C\": uniform(1, 10)}\n",
    "rbf_svr_rd_search_cv = RandomizedSearchCV(SVR(kernel='rbf', max_iter=50000), params,  cv=3, \n",
    "                                           scoring=\"neg_mean_squared_error\", random_state=42, n_jobs=-1)\n",
    "rbf_svr_rd_search_cv.fit(X, y)"
   ]
  },
  {
   "cell_type": "code",
   "execution_count": null,
   "metadata": {
    "colab": {
     "base_uri": "https://localhost:8080/"
    },
    "id": "QRfd0uNsKANk",
    "outputId": "0bfeed0a-38bb-4730-c8b5-8dfc5f5487f6"
   },
   "outputs": [
    {
     "name": "stdout",
     "output_type": "stream",
     "text": [
      "Best hyperparameters are: SVR(C=4.745401188473625, gamma=0.07969454818643928, max_iter=50000)\n"
     ]
    }
   ],
   "source": [
    "print(\"Best hyperparameters are:\", rbf_svr_rd_search_cv.best_estimator_)"
   ]
  },
  {
   "cell_type": "code",
   "execution_count": null,
   "metadata": {
    "colab": {
     "base_uri": "https://localhost:8080/"
    },
    "id": "QniB-OTnKBpc",
    "outputId": "36de2278-4a96-4c44-8844-8e8c2f5eeaa0"
   },
   "outputs": [
    {
     "name": "stdout",
     "output_type": "stream",
     "text": [
      "MSE is: 13877012057.239176\n"
     ]
    }
   ],
   "source": [
    "import numpy as np\n",
    "\n",
    "print(\"MSE is:\",-rbf_svr_rd_search_cv.best_score_)"
   ]
  },
  {
   "cell_type": "code",
   "execution_count": null,
   "metadata": {
    "colab": {
     "base_uri": "https://localhost:8080/"
    },
    "id": "t-DWjFHGJwiU",
    "outputId": "96b0d554-bbcc-4735-a397-fcaca67d6d85"
   },
   "outputs": [
    {
     "data": {
      "text/plain": [
       "RandomizedSearchCV(cv=3, estimator=SVR(kernel='sigmoid'), n_jobs=-1,\n",
       "                   param_distributions={'C': <scipy.stats._distn_infrastructure.rv_frozen object at 0x7f0cc7d27250>,\n",
       "                                        'gamma': <scipy.stats._distn_infrastructure.rv_frozen object at 0x7f0cc7d27090>},\n",
       "                   random_state=42, return_train_score=True,\n",
       "                   scoring='neg_mean_squared_error')"
      ]
     },
     "execution_count": 46,
     "metadata": {},
     "output_type": "execute_result"
    }
   ],
   "source": [
    "from sklearn.svm import SVR\n",
    "from sklearn.model_selection import RandomizedSearchCV\n",
    "from scipy.stats import reciprocal, uniform\n",
    "\n",
    "params = {\"gamma\": reciprocal(0.001, 0.1), \"C\": uniform(1, 10)}\n",
    "sig_svr_rd_search_cv = RandomizedSearchCV(SVR(kernel='sigmoid'), params, n_iter=10, cv=3, \n",
    "                                           scoring=\"neg_mean_squared_error\",return_train_score=True,random_state=42, n_jobs=-1)\n",
    "sig_svr_rd_search_cv.fit(X, y)"
   ]
  },
  {
   "cell_type": "code",
   "execution_count": null,
   "metadata": {
    "colab": {
     "base_uri": "https://localhost:8080/"
    },
    "id": "DL8qXxGAKJvV",
    "outputId": "a0aa1d88-cb12-440c-f5cc-b9ceac0cfbaf"
   },
   "outputs": [
    {
     "name": "stdout",
     "output_type": "stream",
     "text": [
      "Best hyperparameters are: SVR(C=4.745401188473625, gamma=0.07969454818643928, kernel='sigmoid')\n"
     ]
    }
   ],
   "source": [
    "print(\"Best hyperparameters are:\",sig_svr_rd_search_cv.best_estimator_)"
   ]
  },
  {
   "cell_type": "code",
   "execution_count": null,
   "metadata": {
    "colab": {
     "base_uri": "https://localhost:8080/"
    },
    "id": "NIBKZzNWKLTs",
    "outputId": "a9bd4109-a41f-4ffc-9ada-45c9e0764c1a"
   },
   "outputs": [
    {
     "name": "stdout",
     "output_type": "stream",
     "text": [
      "MSE is: 13744315287.792427\n"
     ]
    }
   ],
   "source": [
    "import numpy as np\n",
    "\n",
    "print(\"MSE is:\", -sig_svr_rd_search_cv.best_score_)"
   ]
  },
  {
   "cell_type": "markdown",
   "metadata": {
    "id": "lZSMo1hmcWTV"
   },
   "source": [
    "**[Add your solution here]**"
   ]
  },
  {
   "cell_type": "markdown",
   "metadata": {
    "id": "SVmK22B5cWTV"
   },
   "source": [
    "## (e) [2 marks]\n",
    "\n",
    "**Task:** Choose the best model in (d). Then for this model, evaluate the RMSE on the test set, which is stored in `X_test` and `y_test`."
   ]
  },
  {
   "cell_type": "markdown",
   "metadata": {
    "id": "zTg1dzmdRIg7"
   },
   "source": [
    "SVM regression with sigmoid kernel has lower mse and is therefore our best model.  "
   ]
  },
  {
   "cell_type": "code",
   "execution_count": null,
   "metadata": {
    "colab": {
     "base_uri": "https://localhost:8080/"
    },
    "id": "qG0opFOuRWvp",
    "outputId": "76a518cd-d8d9-4c6c-a899-db30bcd6cdba"
   },
   "outputs": [
    {
     "data": {
      "text/plain": [
       "114741.28850451492"
      ]
     },
     "execution_count": 51,
     "metadata": {},
     "output_type": "execute_result"
    }
   ],
   "source": [
    "from sklearn.metrics import mean_squared_error\n",
    "\n",
    "y_svr_pred_test = sig_svr_rd_search_cv.best_estimator_.predict(X_test)\n",
    "mse = mean_squared_error(y_test, y_svr_pred_test)\n",
    "\n",
    "np.sqrt(mse)"
   ]
  },
  {
   "cell_type": "markdown",
   "metadata": {
    "id": "0Ns3YfltcWTV"
   },
   "source": [
    "**[Add your solution here]**"
   ]
  },
  {
   "cell_type": "markdown",
   "metadata": {
    "id": "I0XbisZFcWTW"
   },
   "source": [
    "# 3. Voting Classifiers [8 marks]\n",
    "## (a)  [4 marks]\n",
    "\n",
    "Consider the MNIST dataset. To save computational time, split it into a smaller training set (the first 5000 observations) and a validation set (the next 1000 observations) as given by the following code."
   ]
  },
  {
   "cell_type": "code",
   "execution_count": 4,
   "metadata": {
    "id": "6LlfJf_ocWTW"
   },
   "outputs": [],
   "source": [
    "N = 5000\n",
    "M = 6000\n",
    "X_train = mnist[\"data\"][:N]\n",
    "X_val  = mnist[\"data\"][N:M]\n",
    "y_train = mnist[\"target\"][:N]\n",
    "y_val = mnist[\"target\"][N:M]"
   ]
  },
  {
   "cell_type": "markdown",
   "metadata": {
    "id": "I4E69bvAcWTW"
   },
   "source": [
    "Do not shuffle the data and do not use a standard scaler. Train the following classifiers on the training set:\n",
    "\n",
    "(i) a random forest classifier with arguments `n_estimators=100, n_jobs=-1, random_state=42`,\n",
    "\n",
    "(ii) an extra-trees classifier with arguments `n_estimators=100, n_jobs=-1, random_state=42`,\n",
    "\n",
    "(iii) an AdaBoost classifier `n_estimators=50, learning_rate=0.2, random_state=42`,\n",
    "\n",
    "(iv) a gradient boosting classifier using the class `GradientBoostingClassifier()` with arguments `max_depth=2, n_estimators=10, learning_rate=0.25, random_state=42`.\n",
    "\n",
    "Report the accuracy of each trained classifier on the validation set."
   ]
  },
  {
   "cell_type": "code",
   "execution_count": 5,
   "metadata": {
    "colab": {
     "base_uri": "https://localhost:8080/"
    },
    "id": "R884O7E0XSH7",
    "outputId": "190b85e8-2a80-493b-917d-358823da8168"
   },
   "outputs": [
    {
     "name": "stdout",
     "output_type": "stream",
     "text": [
      "accuracy of RandomForestClassifier is:  0.939\n"
     ]
    }
   ],
   "source": [
    "from sklearn.ensemble import RandomForestClassifier\n",
    "from sklearn.ensemble import  ExtraTreesClassifier\n",
    "from sklearn.ensemble import AdaBoostClassifier\n",
    "from sklearn.ensemble import GradientBoostingClassifier\n",
    "from sklearn.metrics import accuracy_score\n",
    "\n",
    "rndforest_clf = RandomForestClassifier(n_estimators=100, n_jobs=-1, random_state=42)\n",
    "rndforest_clf.fit(X_train, y_train)\n",
    "\n",
    "y_pred_rndforest_clf_val = rndforest_clf.predict(X_val)\n",
    "print(\"accuracy of RandomForestClassifier is: \", accuracy_score(y_val, y_pred_rndforest_clf_val))"
   ]
  },
  {
   "cell_type": "code",
   "execution_count": 6,
   "metadata": {
    "colab": {
     "base_uri": "https://localhost:8080/"
    },
    "id": "C0ojdfFvYje9",
    "outputId": "bf7e0478-49c3-4112-a545-599f6c8655b6"
   },
   "outputs": [
    {
     "name": "stdout",
     "output_type": "stream",
     "text": [
      "accuracy of ExtraTreesClassifier is:  0.947\n"
     ]
    }
   ],
   "source": [
    "extrees_clf = ExtraTreesClassifier(n_estimators=100, n_jobs=-1, random_state=42)\n",
    "extrees_clf.fit(X_train, y_train)\n",
    "\n",
    "y_pred_extrees_clf_val = extrees_clf.predict(X_val)\n",
    "print(\"accuracy of ExtraTreesClassifier is: \", accuracy_score(y_val, y_pred_extrees_clf_val))"
   ]
  },
  {
   "cell_type": "code",
   "execution_count": 7,
   "metadata": {
    "colab": {
     "base_uri": "https://localhost:8080/"
    },
    "id": "7-KoUac7Zrki",
    "outputId": "09317583-8221-438f-c4de-a58ab66e03a7"
   },
   "outputs": [
    {
     "name": "stdout",
     "output_type": "stream",
     "text": [
      "accuracy of AdaBoostClassifier is:  0.736\n"
     ]
    }
   ],
   "source": [
    "from sklearn.tree import DecisionTreeClassifier\n",
    "ada_clf = AdaBoostClassifier(\n",
    "    DecisionTreeClassifier(max_depth=1), n_estimators=50,\n",
    "    algorithm=\"SAMME.R\", learning_rate=0.2, random_state=42)\n",
    "ada_clf.fit(X_train, y_train)\n",
    "\n",
    "y_pred_adaclf_val = ada_clf.predict(X_val)\n",
    "print(\"accuracy of AdaBoostClassifier is: \", accuracy_score(y_val, y_pred_adaclf_val))"
   ]
  },
  {
   "cell_type": "code",
   "execution_count": 8,
   "metadata": {
    "colab": {
     "base_uri": "https://localhost:8080/"
    },
    "id": "fNoP2zKRaHVa",
    "outputId": "dcf6d5d4-a716-457a-d90e-58d6e138829b"
   },
   "outputs": [
    {
     "name": "stdout",
     "output_type": "stream",
     "text": [
      "accuracy of GradientBoostingClassifier is:  0.834\n"
     ]
    }
   ],
   "source": [
    "gb_clf = GradientBoostingClassifier(max_depth=2, n_estimators=10, learning_rate=0.25, random_state=42)\n",
    "gb_clf.fit(X_train, y_train)\n",
    "\n",
    "y_pred_gb_clf_val = gb_clf.predict(X_val)\n",
    "print(\"accuracy of GradientBoostingClassifier is: \", accuracy_score(y_val, y_pred_gb_clf_val))"
   ]
  },
  {
   "cell_type": "markdown",
   "metadata": {
    "id": "rbbQKpRRcWTX"
   },
   "source": [
    "**[Add your solution here]**"
   ]
  },
  {
   "cell_type": "markdown",
   "metadata": {
    "id": "FQaqbCsccWTX"
   },
   "source": [
    "## (b)  [4 marks]\n",
    "Train a hard-voting and a soft-voting ensemble classifier based on the models in (a). Evaluate each voting classifier on the validation set. Comment on whether the performance of the ensemble model is better or worse than the individual models in (a) and why that is the case."
   ]
  },
  {
   "cell_type": "markdown",
   "metadata": {
    "id": "ximHa-D-cWTX"
   },
   "source": [
    "**[Add your solution here]**"
   ]
  },
  {
   "cell_type": "code",
   "execution_count": 9,
   "metadata": {
    "colab": {
     "base_uri": "https://localhost:8080/"
    },
    "id": "NR6NEXPna_pX",
    "outputId": "c6bc7408-569d-404c-8028-263b4ff78118"
   },
   "outputs": [
    {
     "name": "stdout",
     "output_type": "stream",
     "text": [
      "accuracy of hard_voting_clf is:  0.923\n"
     ]
    }
   ],
   "source": [
    "from sklearn.ensemble import VotingClassifier\n",
    "\n",
    "classifers = [\n",
    "    (\"rndforest_clf\", rndforest_clf),\n",
    "    (\"extrees_clf\", extrees_clf),\n",
    "    (\"ada_clf\", ada_clf),\n",
    "    (\"gb_clf\", gb_clf),\n",
    "]\n",
    "hard_voting_clf = VotingClassifier(estimators=classifers, voting='hard')\n",
    "hard_voting_clf.fit(X_train, y_train)\n",
    "\n",
    "y_pred_hard_voting_clf_val = hard_voting_clf.predict(X_val)\n",
    "print(\"accuracy of hard_voting_clf is: \", accuracy_score(y_val, y_pred_hard_voting_clf_val))"
   ]
  },
  {
   "cell_type": "code",
   "execution_count": 10,
   "metadata": {
    "colab": {
     "base_uri": "https://localhost:8080/"
    },
    "id": "_Il9vmJZb_5w",
    "outputId": "d1ca51ee-7ea3-4f5c-dc18-1d98a80ba8cf"
   },
   "outputs": [
    {
     "name": "stdout",
     "output_type": "stream",
     "text": [
      "accuracy of soft_voting_clf is:  0.926\n"
     ]
    }
   ],
   "source": [
    "soft_voting_clf = VotingClassifier(estimators=classifers, voting='soft')\n",
    "soft_voting_clf.fit(X_train, y_train)\n",
    "\n",
    "y_pred_soft_voting_clf_val = soft_voting_clf.predict(X_val)\n",
    "print(\"accuracy of soft_voting_clf is: \", accuracy_score(y_val, y_pred_soft_voting_clf_val))"
   ]
  },
  {
   "cell_type": "markdown",
   "metadata": {
    "id": "dy7Eb9ZvcrgM"
   },
   "source": [
    "2 of individual classifiers perform poorly wheres two are better than ensemble.\n",
    "\n",
    "Performance of hard-voting ensemble classifier is better than all individual classifiers except ExtraTreesClassifier and RandomForestClassifier. Hard-voting classifier takes majority voting across classifiers. It is possible that the one of the top performing classifiers namely ExtraTreesClassifier or RandomForestClassifer is wrong for same cases as other classifiers adversely affecting the majority vote.\n",
    "\n",
    "Performance of soft-voting ensemble classifier is better than all individual classifiers except ExtraTreesClassifier and RandomForestClassifier. Soft-voting classifier uses highest probability averaged over all individual classifiers. It is possible that the low performing classifier lower the average probability greatly leading to lower accuracy on the ensemble.\n",
    "\n",
    "Performance of soft-voting classifier is slightly better than that of hard-voting classifier. Averaging probabilites in soft-voting classifiers is beneficial but not too much as the lower performing individual classifiers are affecting accuracy."
   ]
  },
  {
   "cell_type": "markdown",
   "metadata": {
    "id": "FjVADiTpcWTY"
   },
   "source": [
    "# 4. Stacking [9 marks]\n",
    "\n",
    "We continue with the setting of Question 3. The training set, validation set and test set are the same. In Question 3, we have used predetermined rules (that is, hard-voting and soft-voting) to build the ensemble prediction. **Stacking** is an ensemble method in which you train a model (called a **blender**) to aggregate the result of each predictor into an ensemble prediction.\n",
    "\n",
    "Hint: Reading the subsection \"Stacking\" in Chapter 7 of the textbook and the solution to Question 9 in the Chapter 7 [Jupyter notebook](https://github.com/ageron/handson-ml2/blob/master/07_ensemble_learning_and_random_forests.ipynb) on the textbook website may help with this question.\n",
    "\n",
    "## (a)  [3 marks]\n",
    "\n",
    "For each of the four classifiers in Question 3(a), make 5000 clean predictions on the training set with 3-fold cross validation using `sklearn.model_selection.cross_val_predict()`. You should end up with four predictions per observation. Print at least the first 5 rows of `pred`. Next, apply one-hot encoding to `pred` since these predictions are class labels."
   ]
  },
  {
   "cell_type": "code",
   "execution_count": 11,
   "metadata": {
    "colab": {
     "base_uri": "https://localhost:8080/"
    },
    "id": "PEyj9HPI1px3",
    "outputId": "44cfcc8a-59dd-4a05-9f12-b8afd1bbefa5"
   },
   "outputs": [
    {
     "data": {
      "text/plain": [
       "array([[5., 5., 3., 3.],\n",
       "       [0., 0., 5., 0.],\n",
       "       [4., 4., 4., 4.],\n",
       "       [1., 1., 1., 1.],\n",
       "       [9., 9., 9., 9.]])"
      ]
     },
     "execution_count": 11,
     "metadata": {},
     "output_type": "execute_result"
    }
   ],
   "source": [
    "from sklearn.model_selection import cross_val_predict\n",
    "estimators = [rndforest_clf, extrees_clf, ada_clf,  gb_clf]\n",
    "\n",
    "X_val_predictions = np.empty((len(X_train), len(estimators)))\n",
    "\n",
    "for index, estimator in enumerate(estimators):\n",
    "    X_val_predictions[:, index] = cross_val_predict(estimator, X_train, y_train, cv=3)\n",
    "\n",
    "X_val_predictions[:5,]"
   ]
  },
  {
   "cell_type": "code",
   "execution_count": 12,
   "metadata": {
    "colab": {
     "base_uri": "https://localhost:8080/"
    },
    "id": "_u6IKsCL9FDw",
    "outputId": "61717800-56cd-4178-bb05-bd05cd55aca5"
   },
   "outputs": [
    {
     "data": {
      "text/plain": [
       "array([[0., 0., 0., ..., 0., 0., 0.],\n",
       "       [1., 0., 0., ..., 0., 0., 0.],\n",
       "       [0., 0., 0., ..., 0., 0., 0.],\n",
       "       ...,\n",
       "       [0., 0., 1., ..., 0., 0., 0.],\n",
       "       [0., 1., 0., ..., 0., 0., 0.],\n",
       "       [0., 0., 1., ..., 0., 0., 0.]])"
      ]
     },
     "execution_count": 12,
     "metadata": {},
     "output_type": "execute_result"
    }
   ],
   "source": [
    "from sklearn.preprocessing import OneHotEncoder\n",
    "\n",
    "cat_encoder = OneHotEncoder()\n",
    "X_val_predictions_hot = cat_encoder.fit_transform(X_val_predictions)\n",
    "X_val_predictions_hot.toarray()"
   ]
  },
  {
   "cell_type": "markdown",
   "metadata": {
    "id": "ms9oI74ZcWTY"
   },
   "source": [
    "**[Add your solution here]**"
   ]
  },
  {
   "cell_type": "markdown",
   "metadata": {
    "id": "CB7RnCbicWTZ"
   },
   "source": [
    "## (b) [3 marks]\n",
    "Use the predictions in (a) as features and the actual label of the observations as the target. Train a random forest classifier on the training set with the parameters `n_estimators=100, random_state=42`.  This classifier is a blender. "
   ]
  },
  {
   "cell_type": "code",
   "execution_count": 13,
   "metadata": {
    "colab": {
     "base_uri": "https://localhost:8080/"
    },
    "id": "UpllXVoi-joG",
    "outputId": "023e8f99-a6bf-42f8-e08a-5c40651a8933"
   },
   "outputs": [
    {
     "data": {
      "text/plain": [
       "RandomForestClassifier(oob_score=True, random_state=42)"
      ]
     },
     "execution_count": 13,
     "metadata": {},
     "output_type": "execute_result"
    }
   ],
   "source": [
    "rnd_forest_blender = RandomForestClassifier(n_estimators=100, oob_score=True, random_state=42)\n",
    "rnd_forest_blender.fit(X_val_predictions_hot, y_train)"
   ]
  },
  {
   "cell_type": "markdown",
   "metadata": {
    "id": "hVHFcu4bcWTZ"
   },
   "source": [
    "**[Add your solution here]**"
   ]
  },
  {
   "cell_type": "markdown",
   "metadata": {
    "id": "-RiPY1hIcWTZ"
   },
   "source": [
    "## (c) [3 marks]\n",
    "\n",
    "Obtain the predictions of the blender on the validation set by feeding predictions on the validation set from the four classifiers in Question 3(a) into the blender trained in Question 4(b). Do not retrain the blender. These are called stacking predictions. Report the accuracy of your stacking predictions on the validation set and compare this to the results in Question 3(b)."
   ]
  },
  {
   "cell_type": "code",
   "execution_count": 14,
   "metadata": {
    "id": "lM_WrvpK_ufe"
   },
   "outputs": [],
   "source": [
    "X_val_predictions_val = np.empty((len(X_val), len(estimators)), dtype=np.float32)\n",
    "\n",
    "for index, estimator in enumerate(estimators):\n",
    "    X_val_predictions_val[:, index] = estimator.predict(X_val)"
   ]
  },
  {
   "cell_type": "code",
   "execution_count": 15,
   "metadata": {
    "colab": {
     "base_uri": "https://localhost:8080/"
    },
    "id": "7jXG9jA6ACNs",
    "outputId": "c23e5bc0-bde5-423a-f013-783c63ea7db5"
   },
   "outputs": [
    {
     "data": {
      "text/plain": [
       "0.947"
      ]
     },
     "execution_count": 15,
     "metadata": {},
     "output_type": "execute_result"
    }
   ],
   "source": [
    "from sklearn.metrics import accuracy_score\n",
    "\n",
    "from sklearn.preprocessing import OneHotEncoder\n",
    "\n",
    "cat_encoder = OneHotEncoder()\n",
    "X_val_predictions_val_hot = cat_encoder.fit_transform(X_val_predictions_val)\n",
    "\n",
    "y_pred = rnd_forest_blender.predict(X_val_predictions_val_hot)\n",
    "accuracy_score(y_val, y_pred)\n",
    "\n"
   ]
  },
  {
   "cell_type": "markdown",
   "metadata": {
    "id": "EzeY5B0WFb6_"
   },
   "source": [
    "This is better than the voting classifer and equal to the best individual classifer (ExtraTreesClassifier)"
   ]
  },
  {
   "cell_type": "markdown",
   "metadata": {
    "id": "rsbejEHfcWTZ"
   },
   "source": [
    "**[Add your solution here]**"
   ]
  }
 ],
 "metadata": {
  "colab": {
   "collapsed_sections": [],
   "name": "RohanTiwari_CFRM521_Homework2.ipynb",
   "provenance": [],
   "toc_visible": true
  },
  "hide_input": false,
  "kernelspec": {
   "display_name": "Python 3 (ipykernel)",
   "language": "python",
   "name": "python3"
  },
  "language_info": {
   "codemirror_mode": {
    "name": "ipython",
    "version": 3
   },
   "file_extension": ".py",
   "mimetype": "text/x-python",
   "name": "python",
   "nbconvert_exporter": "python",
   "pygments_lexer": "ipython3",
   "version": "3.9.7"
  },
  "latex_envs": {
   "LaTeX_envs_menu_present": true,
   "autoclose": false,
   "autocomplete": false,
   "bibliofile": "biblio.bib",
   "cite_by": "apalike",
   "current_citInitial": 1,
   "eqLabelWithNumbers": true,
   "eqNumInitial": 1,
   "hotkeys": {
    "equation": "Ctrl-E",
    "itemize": "Ctrl-I"
   },
   "labels_anchors": false,
   "latex_user_defs": false,
   "report_style_numbering": false,
   "user_envs_cfg": false
  },
  "toc": {
   "base_numbering": 1,
   "nav_menu": {},
   "number_sections": false,
   "sideBar": true,
   "skip_h1_title": false,
   "title_cell": "Table of Contents",
   "title_sidebar": "Contents",
   "toc_cell": false,
   "toc_position": {},
   "toc_section_display": true,
   "toc_window_display": false
  },
  "varInspector": {
   "cols": {
    "lenName": 16,
    "lenType": 16,
    "lenVar": 40
   },
   "kernels_config": {
    "python": {
     "delete_cmd_postfix": "",
     "delete_cmd_prefix": "del ",
     "library": "var_list.py",
     "varRefreshCmd": "print(var_dic_list())"
    },
    "r": {
     "delete_cmd_postfix": ") ",
     "delete_cmd_prefix": "rm(",
     "library": "var_list.r",
     "varRefreshCmd": "cat(var_dic_list()) "
    }
   },
   "types_to_exclude": [
    "module",
    "function",
    "builtin_function_or_method",
    "instance",
    "_Feature"
   ],
   "window_display": false
  }
 },
 "nbformat": 4,
 "nbformat_minor": 1
}
