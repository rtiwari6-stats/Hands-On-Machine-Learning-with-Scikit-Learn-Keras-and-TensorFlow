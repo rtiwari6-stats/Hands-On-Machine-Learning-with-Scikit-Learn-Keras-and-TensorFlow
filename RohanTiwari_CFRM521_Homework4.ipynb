{
  "cells": [
    {
      "cell_type": "markdown",
      "metadata": {
        "id": "E0WOK89qsX2z"
      },
      "source": [
        "<h1>\n",
        "<center>CFRM 421/521, Spring 2022</center>\n",
        "</h1>\n",
        "\n",
        "<h1>\n",
        "<center>Rohan Tiwari</center>\n",
        "</h1>\n",
        "\n",
        "<h1>\n",
        "<center>Homework 4</center>\n",
        "</h1>\n",
        "\n",
        "* **Due: Tuesday, May 31, 2022, 11:59 PM**\n",
        "\n",
        "\n",
        "* Total marks: 47\n",
        "\n",
        "\n",
        "* Late submissions are allowed, but a 20% penalty per day applies. Your last submission is considered for calculating the penalty.\n",
        "\n",
        "\n",
        "*  Use this Jupyter notebook as a template for your solutions. **Your solution must be submitted as one Jupyter notebook on Canvas and one PDF file on Gradescope.** The notebook must be already run, that is, make sure that you have run all your code, save the notebook, and then when you reopen the notebook, checked that all output appears as expected. You are allowed to use code from the textbook, textbook website, or lecture notes."
      ]
    },
    {
      "cell_type": "markdown",
      "metadata": {
        "id": "DsYZSBkGsX22"
      },
      "source": [
        "# 1. A regression MLP [10 marks]\n",
        "\n",
        "Consider the California housing data from Homework 1 using the same training and test set there. Here, we split off 20% of the training set as a validation set, and keep the remaining 80% as the actual training set.  The following code replicates the preprocessing of the dataset from Homework 1, creating the training set `X_train`, `y_train`, the validation set `X_valid`, `y_valid` and the test set `X_test`, `y_test`. The target variable has been divided by 100,000."
      ]
    },
    {
      "cell_type": "code",
      "execution_count": 5,
      "metadata": {
        "id": "dLGO7oxRsX22"
      },
      "outputs": [],
      "source": [
        "import numpy as np\n",
        "import pandas as pd\n",
        "import tensorflow as tf\n",
        "import tensorflow.keras as keras"
      ]
    },
    {
      "cell_type": "code",
      "execution_count": 7,
      "metadata": {
        "id": "zGouXtbOsX23"
      },
      "outputs": [],
      "source": [
        "from sklearn.pipeline import Pipeline\n",
        "from sklearn.impute import SimpleImputer\n",
        "from sklearn.compose import ColumnTransformer\n",
        "from sklearn.preprocessing import StandardScaler, OneHotEncoder\n",
        "from sklearn.model_selection import StratifiedShuffleSplit\n",
        "\n",
        "import os\n",
        "import tarfile\n",
        "from six.moves import urllib\n",
        "\n",
        "HOUSING_PATH = os.path.join(\"datasets\", \"housing\")\n",
        "\n",
        "def fetch_housing_data(housing_url, housing_path=HOUSING_PATH):\n",
        "    if not os.path.isdir(housing_path):\n",
        "        os.makedirs(housing_path)\n",
        "    tgz_path = os.path.join(housing_path, \"housing.tgz\")\n",
        "    urllib.request.urlretrieve(housing_url, tgz_path)\n",
        "    housing_tgz = tarfile.open(tgz_path)\n",
        "    housing_tgz.extractall(path=housing_path)\n",
        "    housing_tgz.close()\n",
        "\n",
        "def load_housing_data(housing_path=HOUSING_PATH):\n",
        "    csv_path = os.path.join(housing_path, \"housing.csv\")\n",
        "    return pd.read_csv(csv_path)\n",
        "\n",
        "HOUSING_URL = (\"https://raw.githubusercontent.com/ageron/\"+\n",
        "               \"handson-ml2/master/datasets/housing/housing.tgz\")\n",
        "fetch_housing_data(HOUSING_URL)\n",
        "data = load_housing_data()\n",
        "\n",
        "data[\"income_cat\"] = np.ceil(data[\"median_income\"] / 1.5)\n",
        "data[\"income_cat\"].where(data[\"income_cat\"] < 5, 5.0, inplace=True)\n",
        "split = StratifiedShuffleSplit(n_splits=1, test_size=0.2, random_state=42)\n",
        "for train_index, test_index in split.split(data, data[\"income_cat\"]):\n",
        "    strat_train_set = data.loc[train_index]\n",
        "    strat_test_set = data.loc[test_index]\n",
        "    \n",
        "# Split the traning set into training and validation    \n",
        "split2 = StratifiedShuffleSplit(n_splits=1, test_size=0.2, random_state=42)\n",
        "for train_index2, valid_index in split2.split(strat_train_set, strat_train_set[\"income_cat\"]):\n",
        "    strat_train2_set = strat_train_set.iloc[train_index2]\n",
        "    strat_valid_set = strat_train_set.iloc[valid_index]\n",
        "    \n",
        "strat_train_set = strat_train2_set.copy().drop(\"income_cat\", axis=1)\n",
        "strat_valid_set = strat_valid_set.copy().drop(\"income_cat\", axis=1)\n",
        "strat_test_set = strat_test_set.copy().drop(\"income_cat\", axis=1)\n",
        "\n",
        "X_raw = strat_train_set.drop(\"median_house_value\", axis=1)\n",
        "y_train = strat_train_set[\"median_house_value\"].copy()/100000\n",
        "\n",
        "num_pipeline = Pipeline([\n",
        "        ('imputer', SimpleImputer(strategy=\"median\")),\n",
        "        ('std_scaler', StandardScaler()),\n",
        "    ])\n",
        "num_features = X_raw.drop(\"ocean_proximity\", axis=1)\n",
        "num_attribs = list(num_features)\n",
        "cat_attribs = [\"ocean_proximity\"]\n",
        "full_pipeline = ColumnTransformer([\n",
        "        (\"num\", num_pipeline, num_attribs),\n",
        "        (\"cat\", OneHotEncoder(), cat_attribs),\n",
        "    ])\n",
        "\n",
        "# Apply the pipeline to the training set\n",
        "X_train = full_pipeline.fit_transform(X_raw)\n",
        "\n",
        "# Apply the pipeline to the validation set\n",
        "X_valid_raw = strat_valid_set.drop(\"median_house_value\", axis=1)\n",
        "y_valid = strat_valid_set[\"median_house_value\"].copy()/100000\n",
        "X_valid = full_pipeline.transform(X_valid_raw)\n",
        "\n",
        "# Apply the pipeline to the validation set\n",
        "X_test_raw = strat_test_set.drop(\"median_house_value\", axis=1)\n",
        "y_test = strat_test_set[\"median_house_value\"].copy()/100000\n",
        "X_test = full_pipeline.transform(X_test_raw)"
      ]
    },
    {
      "cell_type": "markdown",
      "metadata": {
        "id": "Z75HsFn3sX25"
      },
      "source": [
        "## (a) [4 marks]\n",
        "\n",
        "Use `tensorflow.keras` to train a regression MLP with one hidden layer of 50 ReLU neurons. For the output layer, try both a ReLU activation function and no activation function (which is equivalent to the identity function). Explain which choice is better. Use the appropriate weight initialization. Use the Ndamn optimizer. Train for 30 epochs, and report the mean squared error on the validation set.\n",
        "\n",
        "Hint: In the `.compile()` method, use `loss=\"mse\"`."
      ]
    },
    {
      "cell_type": "markdown",
      "metadata": {
        "id": "wLelgxfCsX25"
      },
      "source": [
        "**[Add your solution here]**"
      ]
    },
    {
      "cell_type": "code",
      "source": [
        "import random as python_random\n",
        "import numpy as np\n",
        "def reset_session(seed=42):\n",
        "    tf.random.set_seed(seed)\n",
        "    python_random.seed(seed)\n",
        "    np.random.seed(seed)\n",
        "    tf.keras.backend.clear_session()"
      ],
      "metadata": {
        "id": "l1Tq3SyaIo1D"
      },
      "execution_count": 8,
      "outputs": []
    },
    {
      "cell_type": "code",
      "source": [
        "import tensorflow as tf\n",
        "from tensorflow import keras\n",
        "reset_session()\n",
        "model = keras.models.Sequential()\n",
        "model.add(keras.layers.Dense(50, activation=\"relu\",kernel_initializer=\"he_normal\"))\n",
        "model.add(keras.layers.Dense(1, activation=\"relu\", kernel_initializer=\"he_normal\"))\n",
        "optimizer = keras.optimizers.Nadam(learning_rate=0.001, beta_1=0.9, beta_2=0.999)\n",
        "model.compile(loss=\"mean_squared_error\",optimizer=optimizer)\n",
        "model.fit(X_train, y_train, epochs=30,\n",
        "                    validation_data=(X_valid, y_valid), verbose=0)\n",
        "print(\"Mse on validation set is: \", model.evaluate(X_valid, y_valid))\n"
      ],
      "metadata": {
        "colab": {
          "base_uri": "https://localhost:8080/"
        },
        "id": "RfGAcRKsuIs0",
        "outputId": "1cdd788d-eb97-4d9d-b3a4-dd6ac46b3ca9"
      },
      "execution_count": 33,
      "outputs": [
        {
          "output_type": "stream",
          "name": "stdout",
          "text": [
            "104/104 [==============================] - 0s 1ms/step - loss: 0.3387\n",
            "Mse on validation set is:  0.33870571851730347\n"
          ]
        }
      ]
    },
    {
      "cell_type": "code",
      "source": [
        "reset_session()\n",
        "\n",
        "model = keras.models.Sequential()\n",
        "model.add(keras.layers.Dense(50, activation=\"relu\",kernel_initializer=\"he_normal\"))\n",
        "model.add(keras.layers.Dense(1))\n",
        "optimizer = keras.optimizers.Nadam(learning_rate=0.001, beta_1=0.9, beta_2=0.999)\n",
        "model.compile(loss=\"mean_squared_error\",optimizer=optimizer)\n",
        "model.fit(X_train, y_train, epochs=30,\n",
        "                    validation_data=(X_valid, y_valid), verbose=0)\n",
        "print(\"Mse on validation set is: \", model.evaluate(X_valid, y_valid))"
      ],
      "metadata": {
        "colab": {
          "base_uri": "https://localhost:8080/"
        },
        "id": "PWFvLksVu5Tu",
        "outputId": "add96cdb-40c6-46f0-f3a7-7deaf0a3b29d"
      },
      "execution_count": 35,
      "outputs": [
        {
          "output_type": "stream",
          "name": "stdout",
          "text": [
            "104/104 [==============================] - 0s 1ms/step - loss: 0.3393\n",
            "Mse on validation set is:  0.339341938495636\n"
          ]
        }
      ]
    },
    {
      "cell_type": "markdown",
      "source": [
        "We see that with relu activation the mse is lower and the loss drops faster so it is better"
      ],
      "metadata": {
        "id": "l4mZINOt7U4h"
      }
    },
    {
      "cell_type": "markdown",
      "metadata": {
        "id": "yGIeKPSPsX26"
      },
      "source": [
        "## (b) [5 marks]\n",
        "\n",
        "Read the section \"Fine-Tuning Neural Network Hyperparameters\" in the textbook and the corresponding section in the [Jupyter notebook](https://github.com/ageron/handson-ml2/blob/master/10_neural_nets_with_keras.ipynb) on the textbook website. Then use a randomized search to search for the best number of hidden layers, neurons per hidden layer, and learning rate. For the randomized search use 3-fold CV, with 10 iterations, with the number of hidden layers uniformly sampled from $\\{0,1,2,3\\}$, the number of neurons per layer uniformly from $\\{1,2,\\dots,100\\}$, and the learning rate from the distribution `reciprocal(3e-4, 3e-2)`. Use early stopping with `patience=10`."
      ]
    },
    {
      "cell_type": "code",
      "source": [
        "import tensorflow as tf\n",
        "\n",
        "def build_model(n_hidden=1, n_neurons=30, learning_rate=3e-3, input_shape=X_train.shape[1:]):\n",
        "    model = keras.models.Sequential()\n",
        "    model.add(keras.layers.InputLayer(input_shape=input_shape))\n",
        "    for layer in range(n_hidden):\n",
        "        model.add(keras.layers.Dense(n_neurons, kernel_initializer=\"he_normal\", activation=\"relu\"))\n",
        "    model.add(keras.layers.Dense(1))\n",
        "    optimizer = keras.optimizers.Nadam(learning_rate=learning_rate, beta_1=0.9, beta_2=0.999)\n",
        "    model.compile(loss=\"mse\", optimizer=optimizer)\n",
        "    return model\n",
        "keras_reg = keras.wrappers.scikit_learn.KerasRegressor(build_model)\n"
      ],
      "metadata": {
        "colab": {
          "base_uri": "https://localhost:8080/"
        },
        "id": "5gCm2PI37kv7",
        "outputId": "0989977f-616a-45b6-e9fa-a8bb79206570"
      },
      "execution_count": 24,
      "outputs": [
        {
          "output_type": "stream",
          "name": "stderr",
          "text": [
            "/usr/local/lib/python3.7/dist-packages/ipykernel_launcher.py:12: DeprecationWarning: KerasRegressor is deprecated, use Sci-Keras (https://github.com/adriangb/scikeras) instead. See https://www.adriangb.com/scikeras/stable/migration.html for help migrating.\n",
            "  if sys.path[0] == '':\n"
          ]
        }
      ]
    },
    {
      "cell_type": "code",
      "source": [
        "from scipy.stats import reciprocal\n",
        "from sklearn.model_selection import RandomizedSearchCV\n",
        "reset_session()\n",
        "param_distribs = {\n",
        "    \"n_hidden\": [0, 1, 2, 3],\n",
        "    \"n_neurons\": np.arange(1, 100)               .tolist(),\n",
        "    \"learning_rate\": reciprocal(3e-4, 3e-2)      .rvs(1000).tolist(),\n",
        "}\n",
        "\n",
        "rnd_search_cv = RandomizedSearchCV(keras_reg, param_distribs, n_iter=10, cv=3, verbose=0)\n",
        "rnd_search_cv.fit(X_train, y_train, epochs=30,\n",
        "                  validation_data=(X_valid, y_valid),\n",
        "                  callbacks=[keras.callbacks.EarlyStopping(patience=10)], verbose=0)"
      ],
      "metadata": {
        "colab": {
          "base_uri": "https://localhost:8080/"
        },
        "id": "pdTrCt3s94vq",
        "outputId": "e9a97e65-8762-40f1-883e-e7f1c78a789f"
      },
      "execution_count": 25,
      "outputs": [
        {
          "output_type": "stream",
          "name": "stdout",
          "text": [
            "138/138 [==============================] - 0s 1ms/step - loss: 0.4277\n",
            "138/138 [==============================] - 0s 1ms/step - loss: 0.4011\n",
            "138/138 [==============================] - 0s 1ms/step - loss: 0.3801\n",
            "138/138 [==============================] - 0s 1ms/step - loss: 0.3004\n",
            "138/138 [==============================] - 0s 1ms/step - loss: 0.3146\n",
            "138/138 [==============================] - 0s 1ms/step - loss: 0.3071\n",
            "138/138 [==============================] - 0s 1ms/step - loss: 0.3712\n",
            "138/138 [==============================] - 0s 1ms/step - loss: 0.3744\n",
            "138/138 [==============================] - 0s 1ms/step - loss: 0.3696\n",
            "138/138 [==============================] - 0s 1ms/step - loss: 0.3069\n",
            "138/138 [==============================] - 0s 1ms/step - loss: 0.3182\n",
            "138/138 [==============================] - 0s 1ms/step - loss: 0.3047\n",
            "138/138 [==============================] - 0s 1ms/step - loss: 0.4875\n",
            "138/138 [==============================] - 0s 1ms/step - loss: 0.5014\n",
            "138/138 [==============================] - 0s 1ms/step - loss: 0.4847\n",
            "138/138 [==============================] - 0s 1ms/step - loss: 0.2953\n",
            "138/138 [==============================] - 0s 1ms/step - loss: 0.3154\n",
            "138/138 [==============================] - 0s 1ms/step - loss: 0.3170\n",
            "138/138 [==============================] - 0s 1ms/step - loss: 0.3421\n",
            "138/138 [==============================] - 0s 1ms/step - loss: 0.3403\n",
            "138/138 [==============================] - 0s 1ms/step - loss: 0.3272\n",
            "138/138 [==============================] - 0s 1ms/step - loss: 0.2886\n",
            "138/138 [==============================] - 0s 1ms/step - loss: 0.3147\n",
            "138/138 [==============================] - 0s 2ms/step - loss: 0.2953\n",
            "138/138 [==============================] - 0s 1ms/step - loss: 0.3179\n",
            "138/138 [==============================] - 0s 1ms/step - loss: 0.3241\n",
            "138/138 [==============================] - 0s 1ms/step - loss: 0.3206\n",
            "138/138 [==============================] - 0s 1ms/step - loss: 0.2998\n",
            "138/138 [==============================] - 0s 1ms/step - loss: 0.3213\n",
            "138/138 [==============================] - 0s 1ms/step - loss: 0.2915\n"
          ]
        },
        {
          "output_type": "execute_result",
          "data": {
            "text/plain": [
              "RandomizedSearchCV(cv=3,\n",
              "                   estimator=<keras.wrappers.scikit_learn.KerasRegressor object at 0x7f90746fd390>,\n",
              "                   param_distributions={'learning_rate': [0.001683454924600351,\n",
              "                                                          0.02390836445593178,\n",
              "                                                          0.008731907739399206,\n",
              "                                                          0.004725396149933917,\n",
              "                                                          0.0006154014789262348,\n",
              "                                                          0.0006153331256530192,\n",
              "                                                          0.0003920021771415983,\n",
              "                                                          0.01619845322936229,\n",
              "                                                          0.004779156784872302,\n",
              "                                                          0.007821074275112298,...\n",
              "                                                          0.0011470425674025553,\n",
              "                                                          0.005021425736625637,\n",
              "                                                          0.0005703073595961105,\n",
              "                                                          0.001151888789941251,\n",
              "                                                          0.001621231156394198,\n",
              "                                                          0.0024505367684280487,\n",
              "                                                          0.011155092541719619,\n",
              "                                                          0.0007524347058135697,\n",
              "                                                          0.0032032448128444043,\n",
              "                                                          0.004591455636549438,\n",
              "                                                          0.0003715541189658278, ...],\n",
              "                                        'n_hidden': [0, 1, 2, 3],\n",
              "                                        'n_neurons': [1, 2, 3, 4, 5, 6, 7, 8, 9,\n",
              "                                                      10, 11, 12, 13, 14, 15,\n",
              "                                                      16, 17, 18, 19, 20, 21,\n",
              "                                                      22, 23, 24, 25, 26, 27,\n",
              "                                                      28, 29, 30, ...]})"
            ]
          },
          "metadata": {},
          "execution_count": 25
        }
      ]
    },
    {
      "cell_type": "markdown",
      "metadata": {
        "id": "NcJvIE49sX26"
      },
      "source": [
        "**[Add your solution here]**"
      ]
    },
    {
      "cell_type": "code",
      "source": [
        "rnd_search_cv.best_params_\n"
      ],
      "metadata": {
        "colab": {
          "base_uri": "https://localhost:8080/"
        },
        "id": "OwRNqYjfDzJe",
        "outputId": "4f3dfcd4-f667-4f53-8244-cfae1cbf0ea4"
      },
      "execution_count": 26,
      "outputs": [
        {
          "output_type": "execute_result",
          "data": {
            "text/plain": [
              "{'learning_rate': 0.005803602934201024, 'n_hidden': 3, 'n_neurons': 74}"
            ]
          },
          "metadata": {},
          "execution_count": 26
        }
      ]
    },
    {
      "cell_type": "code",
      "source": [
        "rnd_search_cv.best_score_\n"
      ],
      "metadata": {
        "colab": {
          "base_uri": "https://localhost:8080/"
        },
        "id": "7mIIWV_RDz4F",
        "outputId": "a4513c78-5c7b-400c-ce84-a33f8de71941"
      },
      "execution_count": 27,
      "outputs": [
        {
          "output_type": "execute_result",
          "data": {
            "text/plain": [
              "-0.299530287583669"
            ]
          },
          "metadata": {},
          "execution_count": 27
        }
      ]
    },
    {
      "cell_type": "code",
      "source": [
        "rnd_search_cv.best_estimator_\n"
      ],
      "metadata": {
        "colab": {
          "base_uri": "https://localhost:8080/"
        },
        "id": "PLmngCZqD1jb",
        "outputId": "fc4b0dd9-9a30-4f69-d0ba-88dbc37295d5"
      },
      "execution_count": 28,
      "outputs": [
        {
          "output_type": "execute_result",
          "data": {
            "text/plain": [
              "<keras.wrappers.scikit_learn.KerasRegressor at 0x7f90727ddf10>"
            ]
          },
          "metadata": {},
          "execution_count": 28
        }
      ]
    },
    {
      "cell_type": "code",
      "source": [
        "model = rnd_search_cv.best_estimator_.model\n"
      ],
      "metadata": {
        "id": "Y7WEvRxZD33b"
      },
      "execution_count": 29,
      "outputs": []
    },
    {
      "cell_type": "markdown",
      "metadata": {
        "id": "G9bojehSsX27"
      },
      "source": [
        "## (c) [1 mark]\n",
        "\n",
        "Plot the learning curves for the best model in (c). Does it look like the model is overfitting?"
      ]
    },
    {
      "cell_type": "markdown",
      "metadata": {
        "id": "WQeNtfflsX27"
      },
      "source": [
        "**[Add your solution here]**"
      ]
    },
    {
      "cell_type": "code",
      "source": [
        "import pandas as pd\n",
        "import matplotlib.pyplot as plt\n",
        "\n",
        "pd.DataFrame(model.history.history).plot(figsize=(8, 5))\n",
        "plt.grid(True)\n",
        "plt.gca().set_ylim(0, 1)\n",
        "#save_fig(\"keras_learning_curves_plot\")\n",
        "plt.show()"
      ],
      "metadata": {
        "colab": {
          "base_uri": "https://localhost:8080/",
          "height": 324
        },
        "id": "YVHZI5SvRqro",
        "outputId": "069ed79a-cc8c-49f4-ba25-ef4f5ce3ff0d"
      },
      "execution_count": 30,
      "outputs": [
        {
          "output_type": "display_data",
          "data": {
            "text/plain": [
              "<Figure size 576x360 with 1 Axes>"
            ],
            "image/png": "[encoded data removed]"
          },
          "metadata": {
            "needs_background": "light"
          }
        }
      ]
    },
    {
      "cell_type": "markdown",
      "source": [
        "There is some difference between training and validation set which does not seem to reduce but the gap is small. So there is some overfitting."
      ],
      "metadata": {
        "id": "PwQgiaGzR88B"
      }
    },
    {
      "cell_type": "markdown",
      "metadata": {
        "id": "yRanAhZEsX27"
      },
      "source": [
        "# 2. Binary classification DNN [23 marks]\n",
        "\n",
        "Consider the [Caravan insurance data](https://liacs.leidenuniv.nl/~puttenpwhvander/library/cc2000/). The data gives sociodemographic and product ownership data from customers of an insurance company, some of which purchased caravan insurance. You can read ther data description from that website. Download the data as a csv file from [Canvas](https://canvas.uw.edu/files/92281351/download?download_frd=1).\n",
        "\n",
        "The target variable is `Purchase`, which is binary and you should convert it to 1 for `Yes` and 0 for `No`."
      ]
    },
    {
      "cell_type": "markdown",
      "metadata": {
        "id": "N0z0jWaXsX28"
      },
      "source": [
        "## (a) [3 marks]\n",
        "\n",
        "Load, split and preprocess the data. In particular, for the splitting, you will need to create a test set (20% of the full data), a validation set (20% of the remaining data after creating the test set), and a training set, and stratify using the target variable because this is an imbalanced dataset. For both splits, use `random_state=42`. The features `MOSTYPE` and `MOSHOOFD` are categorical so one hot encoding needs to be applied to them. All other features are numerical so a standard scaler needs to be applied to them. Print the training set `X_train`, `y_train` using `print()`."
      ]
    },
    {
      "cell_type": "markdown",
      "metadata": {
        "id": "ak3S82-rsX28"
      },
      "source": [
        "**[Add your solution here]**"
      ]
    },
    {
      "cell_type": "code",
      "source": [
        "import pandas as pd\n",
        "from sklearn.model_selection import StratifiedShuffleSplit\n",
        "import copy\n",
        "\n",
        "data = pd.read_csv('caravan.csv')\n",
        "data[\"Purchase\"] = (data[\"Purchase\"] == \"Yes\").astype(int)\n",
        "\n",
        "s1 = StratifiedShuffleSplit(n_splits=1, test_size=0.2, random_state=42)\n",
        "train_index_orig, test_index = next(s1.split(data, data[\"Purchase\"]))\n",
        "strat_train_set_orig = data.loc[train_index_orig]\n",
        "strat_test_set = data.loc[test_index]\n",
        "\n",
        "s2 = StratifiedShuffleSplit(n_splits=1, test_size=0.2, random_state=42)\n",
        "train_index, val_index=next(s2.split(strat_train_set_orig, strat_train_set_orig[\"Purchase\"]))\n",
        "strat_train_set = copy.deepcopy(strat_train_set_orig.iloc[train_index])\n",
        "strat_valid_set = copy.deepcopy(strat_train_set_orig.iloc[val_index])\n",
        "\n",
        "#X_raw = strat_train_set.drop(\"Purchase\", axis=1)\n",
        "#y_train = strat_train_set[\"Purchase\"]\n",
        "\n",
        "from sklearn.impute import SimpleImputer\n",
        "from sklearn.preprocessing import OneHotEncoder\n",
        "from sklearn.preprocessing import OrdinalEncoder\n",
        "from sklearn.pipeline import Pipeline\n",
        "from sklearn.preprocessing import StandardScaler\n",
        "from sklearn.compose import ColumnTransformer\n",
        "\n",
        "X_train_raw = strat_train_set.drop(\"Purchase\", axis=1)\n",
        "\n",
        "num_attribs = list(X_train_raw.drop([\"MOSTYPE\",\"MOSHOOFD\"], axis=1))\n",
        "cat_hot_attribs = [\"MOSTYPE\",'MOSHOOFD']\n",
        "\n",
        "num_pipeline = Pipeline([\n",
        "        ('std_scaler', StandardScaler())\n",
        "    ])\n",
        "full_pipeline = ColumnTransformer([\n",
        "        (\"num\", num_pipeline, num_attribs),\n",
        "        (\"cat_hot\", OneHotEncoder(), cat_hot_attribs)\n",
        "    ])\n",
        "\n",
        "y_train = strat_train_set[\"Purchase\"].copy()\n",
        "X_train = full_pipeline.fit_transform(X_train_raw)\n",
        "\n",
        "X_valid_raw = strat_valid_set.drop(\"Purchase\", axis=1)\n",
        "y_valid = strat_valid_set[\"Purchase\"].copy()\n",
        "X_valid = full_pipeline.fit_transform(X_valid_raw)\n",
        "\n",
        "X_test_raw = strat_test_set.drop(\"Purchase\", axis=1)\n",
        "y_test = strat_test_set[\"Purchase\"].copy()\n",
        "X_test = full_pipeline.fit_transform(X_test_raw)"
      ],
      "metadata": {
        "id": "ROCxTVnWj6In"
      },
      "execution_count": 36,
      "outputs": []
    },
    {
      "cell_type": "code",
      "source": [
        "print(X_train)"
      ],
      "metadata": {
        "colab": {
          "base_uri": "https://localhost:8080/"
        },
        "id": "NESOG_Hhk1sc",
        "outputId": "867417e3-5af8-4eea-cc55-91e404d790cc"
      },
      "execution_count": 37,
      "outputs": [
        {
          "output_type": "stream",
          "name": "stdout",
          "text": [
            "[[-0.26920841  0.40025864  0.00630108 ...  0.          0.\n",
            "   0.        ]\n",
            " [-0.26920841 -0.87080994  1.24164497 ...  0.          0.\n",
            "   0.        ]\n",
            " [-0.26920841 -0.87080994  0.00630108 ...  1.          0.\n",
            "   0.        ]\n",
            " ...\n",
            " [-0.26920841  1.67132722  0.00630108 ...  0.          0.\n",
            "   0.        ]\n",
            " [-0.26920841  0.40025864 -1.2290428  ...  0.          0.\n",
            "   0.        ]\n",
            " [-0.26920841  0.40025864  0.00630108 ...  1.          0.\n",
            "   0.        ]]\n"
          ]
        }
      ]
    },
    {
      "cell_type": "code",
      "source": [
        "print(y_train)"
      ],
      "metadata": {
        "colab": {
          "base_uri": "https://localhost:8080/"
        },
        "id": "MppOzfKQp-k4",
        "outputId": "d771bb11-adf4-491d-af0b-ddae17ab82ad"
      },
      "execution_count": 38,
      "outputs": [
        {
          "output_type": "stream",
          "name": "stdout",
          "text": [
            "5356    0\n",
            "2968    0\n",
            "1180    0\n",
            "5182    0\n",
            "2623    0\n",
            "       ..\n",
            "219     0\n",
            "1701    0\n",
            "5360    0\n",
            "978     0\n",
            "4062    0\n",
            "Name: Purchase, Length: 3725, dtype: int64\n"
          ]
        }
      ]
    },
    {
      "cell_type": "markdown",
      "metadata": {
        "id": "hyv_HewjsX28"
      },
      "source": [
        "## (b) [3 marks]\n",
        "\n",
        "In the next part (c), you will build and fit a DNN with 5 hidden layers of 200, 200, 100, 100, 50 neurons, respectively. Use the following specifications:\n",
        "\n",
        "(i) He initialization and the ELU activation function.\n",
        "\n",
        "(ii) The output layer has 1 neuron with sigmoid activation.\n",
        "\n",
        "(iii) Compile with `loss=\"binary_crossentropy\"` and  `metrics=[\"AUC\"]` (which is ROC AUC).\n",
        "\n",
        "In this question, explain why the choices (i), (ii), and (iii) are justified."
      ]
    },
    {
      "cell_type": "markdown",
      "metadata": {
        "id": "1fOEK8kIsX28"
      },
      "source": [
        "**[Add your solution here]**"
      ]
    },
    {
      "cell_type": "code",
      "source": [
        "import numpy as np\n",
        "import pandas as pd\n",
        "import tensorflow as tf\n",
        "import tensorflow.keras as keras\n",
        "\n",
        "model = keras.models.Sequential([\n",
        "    keras.layers.Dense(200, activation=\"elu\", kernel_initializer=\"he_normal\"),\n",
        "    keras.layers.Dense(200, activation=\"elu\", kernel_initializer=\"he_normal\"),\n",
        "    keras.layers.Dense(100, activation=\"elu\", kernel_initializer=\"he_normal\"),\n",
        "    keras.layers.Dense(100, activation=\"elu\", kernel_initializer=\"he_normal\"),\n",
        "    keras.layers.Dense(50, activation=\"elu\", kernel_initializer=\"he_normal\"),\n",
        "    keras.layers.Dense(1, activation=\"sigmoid\")\n",
        "])\n",
        "optimizer = keras.optimizers.SGD(learning_rate=0.001, momentum=0.9, nesterov=True)\n",
        "model.compile(loss=\"binary_crossentropy\", optimizer=optimizer, metrics=[\"AUC\"])"
      ],
      "metadata": {
        "id": "tSLWCq6fqSD-"
      },
      "execution_count": 39,
      "outputs": []
    },
    {
      "cell_type": "markdown",
      "source": [
        "Because we are doing a binary classification task, we should use sigmoid activation in the output layer and also use \"binary_crossentropy\" in the loss function. \n",
        "To avoid vanishing and exploding gradient problems, it is a good to use he_normal in kernel initialization when ELU function is used. "
      ],
      "metadata": {
        "id": "iUXXFW0ggLqR"
      }
    },
    {
      "cell_type": "markdown",
      "metadata": {
        "id": "8pYzhEA3sX28"
      },
      "source": [
        "## (c) [3 marks]\n",
        "\n",
        "Train the model in (b) for 30 epochs and use exponential scheduling and the NAG optimizer with `momentum=0.9`. Use a learning curve to comment on whether it is overfitting.\n",
        "\n",
        "At the start of fitting your model, run `reset_session()` given by the following code."
      ]
    },
    {
      "cell_type": "code",
      "execution_count": 40,
      "metadata": {
        "id": "_6FuA3rbsX29",
        "colab": {
          "base_uri": "https://localhost:8080/"
        },
        "outputId": "9ff5ffcf-0358-4cd1-9be3-657fdf36a8c8"
      },
      "outputs": [
        {
          "output_type": "stream",
          "name": "stdout",
          "text": [
            "30/30 [==============================] - 0s 2ms/step - loss: 0.3881 - auc: 0.6500\n"
          ]
        },
        {
          "output_type": "execute_result",
          "data": {
            "text/plain": [
              "[0.38805896043777466, 0.6500427722930908]"
            ]
          },
          "metadata": {},
          "execution_count": 40
        }
      ],
      "source": [
        "import random as python_random\n",
        "\n",
        "def reset_session(seed=42):\n",
        "    tf.random.set_seed(seed)\n",
        "    python_random.seed(seed)\n",
        "    np.random.seed(seed)\n",
        "    tf.keras.backend.clear_session()\n",
        "reset_session()\n",
        "\n",
        "def exponential_decay_fn(epoch):\n",
        "    return 0.01 * 0.1**(epoch / 20)\n",
        "def exponential_decay(lr0, s):\n",
        "    def exponential_decay_fn(epoch):\n",
        "        return lr0 * 0.1**(epoch / s)\n",
        "    return exponential_decay_fn\n",
        "\n",
        "exponential_decay_fn = exponential_decay(lr0=0.01, s=20)\n",
        "\n",
        "lr_scheduler = keras.callbacks.LearningRateScheduler(exponential_decay_fn)\n",
        "history_sigmoid = model.fit(X_train, y_train, epochs=30,\n",
        "                    validation_data=(X_valid, y_valid), callbacks=[lr_scheduler], verbose=0)\n",
        "\n",
        "model.evaluate(X_valid, y_valid)"
      ]
    },
    {
      "cell_type": "code",
      "source": [
        "import matplotlib.pyplot as plt\n",
        "pd.DataFrame(history_sigmoid.history).plot(figsize=(8,5))\n",
        "plt.grid(True)\n",
        "plt.gca().set_ylim(0,1)"
      ],
      "metadata": {
        "colab": {
          "base_uri": "https://localhost:8080/",
          "height": 342
        },
        "id": "n28JC1O8vuLR",
        "outputId": "89bae350-2957-4998-caa0-c572a63d6290"
      },
      "execution_count": 41,
      "outputs": [
        {
          "output_type": "execute_result",
          "data": {
            "text/plain": [
              "(0.0, 1.0)"
            ]
          },
          "metadata": {},
          "execution_count": 41
        },
        {
          "output_type": "display_data",
          "data": {
            "text/plain": [
              "<Figure size 576x360 with 1 Axes>"
            ],
            "image/png": "[encoded data removed]"
          },
          "metadata": {
            "needs_background": "light"
          }
        }
      ]
    },
    {
      "cell_type": "markdown",
      "source": [
        "The model clearly is overfitting because there is a large gap between training and validation curves."
      ],
      "metadata": {
        "id": "W088OknChb2P"
      }
    },
    {
      "cell_type": "markdown",
      "metadata": {
        "id": "B2YEuyUesX29"
      },
      "source": [
        "**[Add your solution here]**"
      ]
    },
    {
      "cell_type": "markdown",
      "metadata": {
        "id": "Uf7rTxMdsX29"
      },
      "source": [
        "## (d) [12 marks]\n",
        "\n",
        "Fit separate models using the same specification as in (c) but with the following regularization techniques:\n",
        "\n",
        "(i) batch normalization,\n",
        "\n",
        "(ii) early stopping based on validation AUC with `patience=10` (look at the documentation and note the `mode` argument).\n",
        "\n",
        "(iii) $\\ell_2$ regularization with `l2=0.001`,\n",
        "\n",
        "(iv) dropout with probability 0.2,\n",
        "\n",
        "(v) $\\ell_2$ regularization and early stopping both as above,\n",
        "\n",
        "(vi) batch normalization and dropout both as above.\n",
        "\n",
        "At the start of each one of the above models, run `reset_session()`.\n",
        "\n",
        "The performance measure is validation AUC. State this for the model in (c), and for each of the models here comment on whether it is better than the model in (c)."
      ]
    },
    {
      "cell_type": "markdown",
      "metadata": {
        "id": "YwmBQbYfsX29"
      },
      "source": [
        "**[Add your solution here]**"
      ]
    },
    {
      "cell_type": "markdown",
      "source": [
        "Batch Normalization"
      ],
      "metadata": {
        "id": "59d7dIXjxR8u"
      }
    },
    {
      "cell_type": "code",
      "source": [
        "import numpy as np\n",
        "import pandas as pd\n",
        "import tensorflow as tf\n",
        "import tensorflow.keras as keras\n",
        "\n",
        "model_a = keras.models.Sequential([\n",
        "    keras.layers.Flatten(input_shape=X_train.shape[1:]),\n",
        "    keras.layers.BatchNormalization(),\n",
        "    keras.layers.Dense(200, activation=\"elu\", kernel_initializer=\"he_normal\"),\n",
        "    keras.layers.BatchNormalization(),\n",
        "    keras.layers.Dense(200, activation=\"elu\", kernel_initializer=\"he_normal\"),\n",
        "    keras.layers.BatchNormalization(),\n",
        "    keras.layers.Dense(100, activation=\"elu\", kernel_initializer=\"he_normal\"),\n",
        "    keras.layers.BatchNormalization(),\n",
        "    keras.layers.Dense(100, activation=\"elu\", kernel_initializer=\"he_normal\"),\n",
        "    keras.layers.BatchNormalization(),\n",
        "    keras.layers.Dense(50, activation=\"elu\", kernel_initializer=\"he_normal\"),\n",
        "    keras.layers.BatchNormalization(),\n",
        "    keras.layers.Dense(1, activation=\"sigmoid\")\n",
        "])\n",
        "optimizer = keras.optimizers.SGD(learning_rate=0.001, momentum=0.9, nesterov=True)\n",
        "model_a.compile(loss=\"binary_crossentropy\", optimizer=optimizer, metrics=[\"AUC\"])\n",
        "\n",
        "reset_session()\n",
        "\n",
        "def exponential_decay_fn(epoch):\n",
        "    return 0.01 * 0.1**(epoch / 20)\n",
        "def exponential_decay(lr0, s):\n",
        "    def exponential_decay_fn(epoch):\n",
        "        return lr0 * 0.1**(epoch / s)\n",
        "    return exponential_decay_fn\n",
        "\n",
        "exponential_decay_fn = exponential_decay(lr0=0.01, s=20)\n",
        "\n",
        "lr_scheduler = keras.callbacks.LearningRateScheduler(exponential_decay_fn)\n",
        "history_sigmoid = model_a.fit(X_train, y_train, epochs=30,\n",
        "                    validation_data=(X_valid, y_valid), callbacks=[lr_scheduler], verbose=0)\n",
        "\n",
        "model_a.evaluate(X_valid, y_valid)"
      ],
      "metadata": {
        "colab": {
          "base_uri": "https://localhost:8080/"
        },
        "id": "xqwNJ9boxToZ",
        "outputId": "06abccff-0fec-48ba-f796-2fe8861d2b3b"
      },
      "execution_count": 42,
      "outputs": [
        {
          "output_type": "stream",
          "name": "stdout",
          "text": [
            "30/30 [==============================] - 0s 4ms/step - loss: 0.3195 - auc: 0.6304\n"
          ]
        },
        {
          "output_type": "execute_result",
          "data": {
            "text/plain": [
              "[0.3194657266139984, 0.6304121613502502]"
            ]
          },
          "metadata": {},
          "execution_count": 42
        }
      ]
    },
    {
      "cell_type": "markdown",
      "source": [
        "This is not better than model in (c)"
      ],
      "metadata": {
        "id": "j1F-yfkexd8s"
      }
    },
    {
      "cell_type": "markdown",
      "source": [
        "early stopping based on validation AUC with `patience=10` (look at the documentation and note the `mode` argument)."
      ],
      "metadata": {
        "id": "53Bdj1RL05Pw"
      }
    },
    {
      "cell_type": "code",
      "source": [
        "import numpy as np\n",
        "import pandas as pd\n",
        "import tensorflow as tf\n",
        "import tensorflow.keras as keras\n",
        "\n",
        "model_b = keras.models.Sequential([\n",
        "    keras.layers.Flatten(input_shape=X_train.shape[1:]),\n",
        "    keras.layers.Dense(200, activation=\"elu\", kernel_initializer=\"he_normal\"),\n",
        "    keras.layers.Dense(200, activation=\"elu\", kernel_initializer=\"he_normal\"),\n",
        "    keras.layers.Dense(100, activation=\"elu\", kernel_initializer=\"he_normal\"),\n",
        "    keras.layers.Dense(100, activation=\"elu\", kernel_initializer=\"he_normal\"),\n",
        "    keras.layers.Dense(50, activation=\"elu\", kernel_initializer=\"he_normal\"),\n",
        "    keras.layers.Dense(1, activation=\"sigmoid\")\n",
        "])\n",
        "optimizer = keras.optimizers.SGD(learning_rate=0.001, momentum=0.9, nesterov=True)\n",
        "model_b.compile(loss=\"binary_crossentropy\", optimizer=optimizer, metrics=[\"AUC\"])\n",
        "\n",
        "reset_session()\n",
        "\n",
        "def exponential_decay_fn(epoch):\n",
        "    return 0.01 * 0.1**(epoch / 20)\n",
        "def exponential_decay(lr0, s):\n",
        "    def exponential_decay_fn(epoch):\n",
        "        return lr0 * 0.1**(epoch / s)\n",
        "    return exponential_decay_fn\n",
        "\n",
        "exponential_decay_fn = exponential_decay(lr0=0.01, s=20)\n",
        "\n",
        "lr_scheduler = keras.callbacks.LearningRateScheduler(exponential_decay_fn)\n",
        "early_stopping_cb = keras.callbacks.EarlyStopping(monitor=\"val_auc\",\n",
        "                                                  patience=10,\n",
        "                                                  mode=\"max\")\n",
        "history_sigmoid = model_b.fit(X_train, y_train, epochs=30,\n",
        "                    validation_data=(X_valid, y_valid), callbacks=[lr_scheduler, early_stopping_cb], verbose=0)\n",
        "\n",
        "model_b.evaluate(X_valid, y_valid)"
      ],
      "metadata": {
        "colab": {
          "base_uri": "https://localhost:8080/"
        },
        "id": "NU9lxQ6b08FQ",
        "outputId": "a22165e3-4405-477a-c3bd-f9882105b8d7"
      },
      "execution_count": 43,
      "outputs": [
        {
          "output_type": "stream",
          "name": "stdout",
          "text": [
            "30/30 [==============================] - 0s 3ms/step - loss: 0.3058 - auc: 0.6659\n"
          ]
        },
        {
          "output_type": "execute_result",
          "data": {
            "text/plain": [
              "[0.3058452904224396, 0.6659430265426636]"
            ]
          },
          "metadata": {},
          "execution_count": 43
        }
      ]
    },
    {
      "cell_type": "markdown",
      "source": [
        "This is better than model in (c)"
      ],
      "metadata": {
        "id": "pbWUdDFpxmKX"
      }
    },
    {
      "cell_type": "markdown",
      "source": [
        "ℓ2  regularization with l2=0.001"
      ],
      "metadata": {
        "id": "u30sDhkV4ilb"
      }
    },
    {
      "cell_type": "code",
      "source": [
        "import numpy as np\n",
        "import pandas as pd\n",
        "import tensorflow as tf\n",
        "import tensorflow.keras as keras\n",
        "\n",
        "model_c = keras.models.Sequential([\n",
        "    keras.layers.Flatten(input_shape=X_train.shape[1:]),\n",
        "    keras.layers.Dense(200, activation=\"elu\", kernel_initializer=\"he_normal\", \n",
        "                       kernel_regularizer=keras.regularizers.l2(0.001)),\n",
        "    keras.layers.Dense(200, activation=\"elu\", kernel_initializer=\"he_normal\", \n",
        "                       kernel_regularizer=keras.regularizers.l2(0.001)),\n",
        "    keras.layers.Dense(100, activation=\"elu\", kernel_initializer=\"he_normal\",\n",
        "                       kernel_regularizer=keras.regularizers.l2(0.001)),\n",
        "    keras.layers.Dense(100, activation=\"elu\", kernel_initializer=\"he_normal\",\n",
        "                       kernel_regularizer=keras.regularizers.l2(0.001)),\n",
        "    keras.layers.Dense(50, activation=\"elu\", kernel_initializer=\"he_normal\",\n",
        "                       kernel_regularizer=keras.regularizers.l2(0.001)),\n",
        "    keras.layers.Dense(1, activation=\"sigmoid\",\n",
        "                       kernel_regularizer=keras.regularizers.l2(0.001))\n",
        "])\n",
        "optimizer = keras.optimizers.SGD(learning_rate=0.001, momentum=0.9, nesterov=True)\n",
        "model_c.compile(loss=\"binary_crossentropy\", optimizer=optimizer, metrics=[\"AUC\"])\n",
        "\n",
        "reset_session()\n",
        "\n",
        "def exponential_decay_fn(epoch):\n",
        "    return 0.01 * 0.1**(epoch / 20)\n",
        "def exponential_decay(lr0, s):\n",
        "    def exponential_decay_fn(epoch):\n",
        "        return lr0 * 0.1**(epoch / s)\n",
        "    return exponential_decay_fn\n",
        "\n",
        "exponential_decay_fn = exponential_decay(lr0=0.01, s=20)\n",
        "\n",
        "lr_scheduler = keras.callbacks.LearningRateScheduler(exponential_decay_fn)\n",
        "\n",
        "history_sigmoid = model_c.fit(X_train, y_train, epochs=30,\n",
        "                    validation_data=(X_valid, y_valid), callbacks=[lr_scheduler], verbose=0)\n",
        "\n",
        "model_c.evaluate(X_valid, y_valid)"
      ],
      "metadata": {
        "colab": {
          "base_uri": "https://localhost:8080/"
        },
        "id": "Pva6Ajkz4j6K",
        "outputId": "8a58a2bd-771f-441e-f30d-8cdfd14c4e0e"
      },
      "execution_count": 44,
      "outputs": [
        {
          "output_type": "stream",
          "name": "stdout",
          "text": [
            "30/30 [==============================] - 0s 2ms/step - loss: 1.1899 - auc: 0.6657\n"
          ]
        },
        {
          "output_type": "execute_result",
          "data": {
            "text/plain": [
              "[1.1898795366287231, 0.6656780242919922]"
            ]
          },
          "metadata": {},
          "execution_count": 44
        }
      ]
    },
    {
      "cell_type": "markdown",
      "source": [
        "This is better than model in (c)"
      ],
      "metadata": {
        "id": "GQ5CuNY0xo15"
      }
    },
    {
      "cell_type": "markdown",
      "source": [
        "dropout with probability 0.2"
      ],
      "metadata": {
        "id": "m3iEoXq56lOW"
      }
    },
    {
      "cell_type": "code",
      "source": [
        "import numpy as np\n",
        "import pandas as pd\n",
        "import tensorflow as tf\n",
        "import tensorflow.keras as keras\n",
        "\n",
        "model_d = keras.models.Sequential([\n",
        "    keras.layers.Flatten(input_shape=X_train.shape[1:]),\n",
        "    keras.layers.Dropout(rate=0.2),\n",
        "    keras.layers.Dense(200, activation=\"elu\", kernel_initializer=\"he_normal\", \n",
        "                       ),\n",
        "    keras.layers.Dropout(rate=0.2),\n",
        "    keras.layers.Dense(200, activation=\"elu\", kernel_initializer=\"he_normal\", \n",
        "                       ),\n",
        "    keras.layers.Dropout(rate=0.2),\n",
        "    keras.layers.Dense(100, activation=\"elu\", kernel_initializer=\"he_normal\",\n",
        "                       ),\n",
        "    keras.layers.Dropout(rate=0.2),\n",
        "    keras.layers.Dense(100, activation=\"elu\", kernel_initializer=\"he_normal\",\n",
        "                       ),\n",
        "    keras.layers.Dropout(rate=0.2),\n",
        "    keras.layers.Dense(50, activation=\"elu\", kernel_initializer=\"he_normal\",\n",
        "                       ),\n",
        "    keras.layers.Dropout(rate=0.2),\n",
        "    keras.layers.Dense(1, activation=\"sigmoid\",\n",
        "                       )\n",
        "])\n",
        "optimizer = keras.optimizers.SGD(learning_rate=0.001, momentum=0.9, nesterov=True)\n",
        "model_d.compile(loss=\"binary_crossentropy\", optimizer=optimizer, metrics=[\"AUC\"])\n",
        "\n",
        "reset_session()\n",
        "\n",
        "def exponential_decay_fn(epoch):\n",
        "    return 0.01 * 0.1**(epoch / 20)\n",
        "def exponential_decay(lr0, s):\n",
        "    def exponential_decay_fn(epoch):\n",
        "        return lr0 * 0.1**(epoch / s)\n",
        "    return exponential_decay_fn\n",
        "\n",
        "exponential_decay_fn = exponential_decay(lr0=0.01, s=20)\n",
        "\n",
        "lr_scheduler = keras.callbacks.LearningRateScheduler(exponential_decay_fn)\n",
        "\n",
        "history_sigmoid = model_d.fit(X_train, y_train, epochs=30,\n",
        "                    validation_data=(X_valid, y_valid), callbacks=[lr_scheduler], verbose=0)\n",
        "\n",
        "model_d.evaluate(X_valid, y_valid)"
      ],
      "metadata": {
        "colab": {
          "base_uri": "https://localhost:8080/"
        },
        "id": "E2pRKiJg6ntD",
        "outputId": "cded9259-c10c-426b-a2d4-1ebc1726d5ca"
      },
      "execution_count": 45,
      "outputs": [
        {
          "output_type": "stream",
          "name": "stdout",
          "text": [
            "30/30 [==============================] - 0s 2ms/step - loss: 0.2202 - auc: 0.6917\n"
          ]
        },
        {
          "output_type": "execute_result",
          "data": {
            "text/plain": [
              "[0.22016139328479767, 0.6917094588279724]"
            ]
          },
          "metadata": {},
          "execution_count": 45
        }
      ]
    },
    {
      "cell_type": "markdown",
      "source": [
        "This is better than model in (c)"
      ],
      "metadata": {
        "id": "nqHnTZfixrZg"
      }
    },
    {
      "cell_type": "markdown",
      "source": [
        "ℓ2  regularization and early stopping both as above,"
      ],
      "metadata": {
        "id": "aNsSZNqS-Q7T"
      }
    },
    {
      "cell_type": "code",
      "source": [
        "import numpy as np\n",
        "import pandas as pd\n",
        "import tensorflow as tf\n",
        "import tensorflow.keras as keras\n",
        "\n",
        "model_e = keras.models.Sequential([\n",
        "    keras.layers.Flatten(input_shape=X_train.shape[1:]),\n",
        "    keras.layers.Dense(200, activation=\"elu\", kernel_initializer=\"he_normal\", \n",
        "                       kernel_regularizer=keras.regularizers.l2(0.001)),\n",
        "    keras.layers.Dense(200, activation=\"elu\", kernel_initializer=\"he_normal\", \n",
        "                       kernel_regularizer=keras.regularizers.l2(0.001)),\n",
        "    keras.layers.Dense(100, activation=\"elu\", kernel_initializer=\"he_normal\",\n",
        "                       kernel_regularizer=keras.regularizers.l2(0.001)),\n",
        "    keras.layers.Dense(100, activation=\"elu\", kernel_initializer=\"he_normal\",\n",
        "                       kernel_regularizer=keras.regularizers.l2(0.001)),\n",
        "    keras.layers.Dense(50, activation=\"elu\", kernel_initializer=\"he_normal\",\n",
        "                       kernel_regularizer=keras.regularizers.l2(0.001)),\n",
        "    keras.layers.Dense(1, activation=\"sigmoid\",\n",
        "                       kernel_regularizer=keras.regularizers.l2(0.001))\n",
        "])\n",
        "optimizer = keras.optimizers.SGD(learning_rate=0.001, momentum=0.9, nesterov=True)\n",
        "model_e.compile(loss=\"binary_crossentropy\", optimizer=optimizer, metrics=[\"AUC\"])\n",
        "\n",
        "reset_session()\n",
        "\n",
        "def exponential_decay_fn(epoch):\n",
        "    return 0.01 * 0.1**(epoch / 20)\n",
        "def exponential_decay(lr0, s):\n",
        "    def exponential_decay_fn(epoch):\n",
        "        return lr0 * 0.1**(epoch / s)\n",
        "    return exponential_decay_fn\n",
        "\n",
        "exponential_decay_fn = exponential_decay(lr0=0.01, s=20)\n",
        "\n",
        "lr_scheduler = keras.callbacks.LearningRateScheduler(exponential_decay_fn)\n",
        "early_stopping_cb = keras.callbacks.EarlyStopping(monitor=\"val_auc\",\n",
        "                                                  patience=10,\n",
        "                                                  mode=\"max\")\n",
        "\n",
        "history_sigmoid = model_e.fit(X_train, y_train, epochs=30,\n",
        "                    validation_data=(X_valid, y_valid), callbacks=[lr_scheduler, early_stopping_cb], verbose=0)\n",
        "\n",
        "model_e.evaluate(X_valid, y_valid)"
      ],
      "metadata": {
        "colab": {
          "base_uri": "https://localhost:8080/"
        },
        "id": "-cGcO0RF-P-r",
        "outputId": "c82dd89f-d635-4312-b46b-ed896ca778fd"
      },
      "execution_count": 46,
      "outputs": [
        {
          "output_type": "stream",
          "name": "stdout",
          "text": [
            "30/30 [==============================] - 0s 6ms/step - loss: 1.1921 - auc: 0.6760\n"
          ]
        },
        {
          "output_type": "execute_result",
          "data": {
            "text/plain": [
              "[1.192089319229126, 0.6760131120681763]"
            ]
          },
          "metadata": {},
          "execution_count": 46
        }
      ]
    },
    {
      "cell_type": "markdown",
      "source": [
        "This is  better than model in (c)"
      ],
      "metadata": {
        "id": "Tr9xCSJJxtfP"
      }
    },
    {
      "cell_type": "markdown",
      "source": [
        "batch normalization and dropout both as above."
      ],
      "metadata": {
        "id": "bYHoj0mmAXbt"
      }
    },
    {
      "cell_type": "code",
      "source": [
        "import numpy as np\n",
        "import pandas as pd\n",
        "import tensorflow as tf\n",
        "import tensorflow.keras as keras\n",
        "\n",
        "model_f = keras.models.Sequential([\n",
        "    keras.layers.Flatten(input_shape=X_train.shape[1:]),\n",
        "    keras.layers.Dense(200, activation=\"elu\", kernel_initializer=\"he_normal\"),\n",
        "    keras.layers.BatchNormalization(),\n",
        "    keras.layers.Dropout(rate=0.2),\n",
        "    keras.layers.Dense(200, activation=\"elu\", kernel_initializer=\"he_normal\"),\n",
        "    keras.layers.BatchNormalization(),\n",
        "    keras.layers.Dropout(rate=0.2),\n",
        "    keras.layers.Dense(100, activation=\"elu\", kernel_initializer=\"he_normal\"),\n",
        "    keras.layers.BatchNormalization(),\n",
        "    keras.layers.Dropout(rate=0.2),\n",
        "    keras.layers.Dense(100, activation=\"elu\", kernel_initializer=\"he_normal\"),\n",
        "    keras.layers.BatchNormalization(),\n",
        "    keras.layers.Dropout(rate=0.2),\n",
        "    keras.layers.Dense(50, activation=\"elu\", kernel_initializer=\"he_normal\"),\n",
        "    keras.layers.BatchNormalization(),\n",
        "    keras.layers.Dropout(rate=0.2),\n",
        "    keras.layers.Dense(1, activation=\"sigmoid\")\n",
        "])\n",
        "optimizer = keras.optimizers.SGD(learning_rate=0.001, momentum=0.9, nesterov=True)\n",
        "model_f.compile(loss=\"binary_crossentropy\", optimizer=optimizer, metrics=[\"AUC\"])\n",
        "\n",
        "reset_session()\n",
        "\n",
        "def exponential_decay_fn(epoch):\n",
        "    return 0.01 * 0.1**(epoch / 20)\n",
        "def exponential_decay(lr0, s):\n",
        "    def exponential_decay_fn(epoch):\n",
        "        return lr0 * 0.1**(epoch / s)\n",
        "    return exponential_decay_fn\n",
        "\n",
        "exponential_decay_fn = exponential_decay(lr0=0.01, s=20)\n",
        "\n",
        "lr_scheduler = keras.callbacks.LearningRateScheduler(exponential_decay_fn)\n",
        "history_sigmoid = model_f.fit(X_train, y_train, epochs=30,\n",
        "                    validation_data=(X_valid, y_valid), callbacks=[lr_scheduler], verbose=0)\n",
        "\n",
        "model_f.evaluate(X_valid, y_valid)"
      ],
      "metadata": {
        "colab": {
          "base_uri": "https://localhost:8080/"
        },
        "id": "nT5TAIuwAdTm",
        "outputId": "7cfa7217-772c-4d5b-8ba8-3627f7491fb6"
      },
      "execution_count": 47,
      "outputs": [
        {
          "output_type": "stream",
          "name": "stdout",
          "text": [
            "30/30 [==============================] - 0s 3ms/step - loss: 0.2191 - auc: 0.6896\n"
          ]
        },
        {
          "output_type": "execute_result",
          "data": {
            "text/plain": [
              "[0.21914401650428772, 0.6895691156387329]"
            ]
          },
          "metadata": {},
          "execution_count": 47
        }
      ]
    },
    {
      "cell_type": "markdown",
      "source": [
        "This is better than model in (c)"
      ],
      "metadata": {
        "id": "LcnU2oP_xv3U"
      }
    },
    {
      "cell_type": "markdown",
      "metadata": {
        "id": "Slz3TpePsX2-"
      },
      "source": [
        "## (e) [1 mark]\n",
        "\n",
        "For the dropout model in (d)(iv) determine whether or not it is overfitting less than the model in (c)."
      ]
    },
    {
      "cell_type": "markdown",
      "metadata": {
        "id": "2NgYKjMXsX2-"
      },
      "source": [
        "**[Add your solution here]**"
      ]
    },
    {
      "cell_type": "code",
      "source": [
        "reset_session()\n",
        "history = model_d.fit(X_train, y_train, epochs=30,\n",
        "                    validation_data=(X_valid, y_valid), callbacks=[lr_scheduler], verbose=0)\n",
        "\n",
        "import matplotlib.pyplot as plt\n",
        "pd.DataFrame(history.history).plot(figsize=(8,5))\n",
        "plt.grid(True)\n",
        "plt.gca().set_ylim(0,1)"
      ],
      "metadata": {
        "colab": {
          "base_uri": "https://localhost:8080/",
          "height": 342
        },
        "id": "DPP3zglxDpgk",
        "outputId": "e95c4d40-ef44-4273-f7bf-f4f8dba6b4d2"
      },
      "execution_count": 48,
      "outputs": [
        {
          "output_type": "execute_result",
          "data": {
            "text/plain": [
              "(0.0, 1.0)"
            ]
          },
          "metadata": {},
          "execution_count": 48
        },
        {
          "output_type": "display_data",
          "data": {
            "text/plain": [
              "<Figure size 576x360 with 1 Axes>"
            ],
            "image/png": "[encoded data removed]"
          },
          "metadata": {
            "needs_background": "light"
          }
        }
      ]
    },
    {
      "cell_type": "markdown",
      "source": [
        "This is less overfitting than the model in c because the training and validation curves are closer."
      ],
      "metadata": {
        "id": "nb0trYNAm8U0"
      }
    },
    {
      "cell_type": "markdown",
      "metadata": {
        "id": "HMccVlNQsX2-"
      },
      "source": [
        "## (f) [1 mark]\n",
        "\n",
        "Of the models in (c) and (d), one would now choose the best model according to the performance metric (validation AUC) to evaluate on the test set. But instead, evaluate the model in (d)(v) on the test set in terms of the AUC and confusion matrix (regardless of whether it is the best model given your results)."
      ]
    },
    {
      "cell_type": "markdown",
      "metadata": {
        "id": "KjUv-Hk5sX2-"
      },
      "source": [
        "**[Add your solution here]**"
      ]
    },
    {
      "cell_type": "code",
      "source": [
        "reset_session()\n",
        "model_e.evaluate(X_test, y_test)"
      ],
      "metadata": {
        "colab": {
          "base_uri": "https://localhost:8080/"
        },
        "id": "ZMA9R0GYEXeR",
        "outputId": "f837eb1f-c50e-45c6-d261-2842897d6eff"
      },
      "execution_count": 49,
      "outputs": [
        {
          "output_type": "stream",
          "name": "stdout",
          "text": [
            "37/37 [==============================] - 0s 2ms/step - loss: 1.2107 - auc: 0.6125\n"
          ]
        },
        {
          "output_type": "execute_result",
          "data": {
            "text/plain": [
              "[1.210672378540039, 0.612544059753418]"
            ]
          },
          "metadata": {},
          "execution_count": 49
        }
      ]
    },
    {
      "cell_type": "code",
      "source": [
        "tf.math.confusion_matrix(y_test, model_e.predict(X_test))"
      ],
      "metadata": {
        "colab": {
          "base_uri": "https://localhost:8080/"
        },
        "id": "EOvMEcQEEqOv",
        "outputId": "4d437450-9420-4cf7-e25a-cdff2041bace"
      },
      "execution_count": 50,
      "outputs": [
        {
          "output_type": "execute_result",
          "data": {
            "text/plain": [
              "<tf.Tensor: shape=(2, 2), dtype=int32, numpy=\n",
              "array([[1095,    0],\n",
              "       [  70,    0]], dtype=int32)>"
            ]
          },
          "metadata": {},
          "execution_count": 50
        }
      ]
    },
    {
      "cell_type": "markdown",
      "metadata": {
        "id": "nRfUf7aVsX2-"
      },
      "source": [
        "# 4. Time series using machine learning [14 marks]\n",
        "\n",
        "Obtain daily values of the [Japan/U.S. Foreign Exchange Rate (DEXJPUS)](https://fred.stlouisfed.org/series/DEXJPUS) starting from Jan 1, 1990, to Jan 1, 2022, from FRED. This can be obtained using the code below or you can download the data as a csv file from [Canvas](https://canvas.uw.edu/files/92281350/download?download_frd=1)."
      ]
    },
    {
      "cell_type": "code",
      "execution_count": 51,
      "metadata": {
        "colab": {
          "base_uri": "https://localhost:8080/",
          "height": 237
        },
        "id": "HprfHy7AsX2-",
        "outputId": "edeb2261-e23e-4cb2-8627-24f05890ea58"
      },
      "outputs": [
        {
          "output_type": "execute_result",
          "data": {
            "text/plain": [
              "            DEXJPUS\n",
              "DATE               \n",
              "1990-01-01      NaN\n",
              "1990-01-02   146.25\n",
              "1990-01-03   145.70\n",
              "1990-01-04   143.37\n",
              "1990-01-05   143.82"
            ],
            "text/html": [
              "\n",
              "  <div id=\"df-3680752a-464c-48ef-a35e-b77eeab93f1e\">\n",
              "    <div class=\"colab-df-container\">\n",
              "      <div>\n",
              "<style scoped>\n",
              "    .dataframe tbody tr th:only-of-type {\n",
              "        vertical-align: middle;\n",
              "    }\n",
              "\n",
              "    .dataframe tbody tr th {\n",
              "        vertical-align: top;\n",
              "    }\n",
              "\n",
              "    .dataframe thead th {\n",
              "        text-align: right;\n",
              "    }\n",
              "</style>\n",
              "<table border=\"1\" class=\"dataframe\">\n",
              "  <thead>\n",
              "    <tr style=\"text-align: right;\">\n",
              "      <th></th>\n",
              "      <th>DEXJPUS</th>\n",
              "    </tr>\n",
              "    <tr>\n",
              "      <th>DATE</th>\n",
              "      <th></th>\n",
              "    </tr>\n",
              "  </thead>\n",
              "  <tbody>\n",
              "    <tr>\n",
              "      <th>1990-01-01</th>\n",
              "      <td>NaN</td>\n",
              "    </tr>\n",
              "    <tr>\n",
              "      <th>1990-01-02</th>\n",
              "      <td>146.25</td>\n",
              "    </tr>\n",
              "    <tr>\n",
              "      <th>1990-01-03</th>\n",
              "      <td>145.70</td>\n",
              "    </tr>\n",
              "    <tr>\n",
              "      <th>1990-01-04</th>\n",
              "      <td>143.37</td>\n",
              "    </tr>\n",
              "    <tr>\n",
              "      <th>1990-01-05</th>\n",
              "      <td>143.82</td>\n",
              "    </tr>\n",
              "  </tbody>\n",
              "</table>\n",
              "</div>\n",
              "      <button class=\"colab-df-convert\" onclick=\"convertToInteractive('df-3680752a-464c-48ef-a35e-b77eeab93f1e')\"\n",
              "              title=\"Convert this dataframe to an interactive table.\"\n",
              "              style=\"display:none;\">\n",
              "        \n",
              "  <svg xmlns=\"http://www.w3.org/2000/svg\" height=\"24px\"viewBox=\"0 0 24 24\"\n",
              "       width=\"24px\">\n",
              "    <path d=\"M0 0h24v24H0V0z\" fill=\"none\"/>\n",
              "    <path d=\"M18.56 5.44l.94 2.06.94-2.06 2.06-.94-2.06-.94-.94-2.06-.94 2.06-2.06.94zm-11 1L8.5 8.5l.94-2.06 2.06-.94-2.06-.94L8.5 2.5l-.94 2.06-2.06.94zm10 10l.94 2.06.94-2.06 2.06-.94-2.06-.94-.94-2.06-.94 2.06-2.06.94z\"/><path d=\"M17.41 7.96l-1.37-1.37c-.4-.4-.92-.59-1.43-.59-.52 0-1.04.2-1.43.59L10.3 9.45l-7.72 7.72c-.78.78-.78 2.05 0 2.83L4 21.41c.39.39.9.59 1.41.59.51 0 1.02-.2 1.41-.59l7.78-7.78 2.81-2.81c.8-.78.8-2.07 0-2.86zM5.41 20L4 18.59l7.72-7.72 1.47 1.35L5.41 20z\"/>\n",
              "  </svg>\n",
              "      </button>\n",
              "      \n",
              "  <style>\n",
              "    .colab-df-container {\n",
              "      display:flex;\n",
              "      flex-wrap:wrap;\n",
              "      gap: 12px;\n",
              "    }\n",
              "\n",
              "    .colab-df-convert {\n",
              "      background-color: #E8F0FE;\n",
              "      border: none;\n",
              "      border-radius: 50%;\n",
              "      cursor: pointer;\n",
              "      display: none;\n",
              "      fill: #1967D2;\n",
              "      height: 32px;\n",
              "      padding: 0 0 0 0;\n",
              "      width: 32px;\n",
              "    }\n",
              "\n",
              "    .colab-df-convert:hover {\n",
              "      background-color: #E2EBFA;\n",
              "      box-shadow: 0px 1px 2px rgba(60, 64, 67, 0.3), 0px 1px 3px 1px rgba(60, 64, 67, 0.15);\n",
              "      fill: #174EA6;\n",
              "    }\n",
              "\n",
              "    [theme=dark] .colab-df-convert {\n",
              "      background-color: #3B4455;\n",
              "      fill: #D2E3FC;\n",
              "    }\n",
              "\n",
              "    [theme=dark] .colab-df-convert:hover {\n",
              "      background-color: #434B5C;\n",
              "      box-shadow: 0px 1px 3px 1px rgba(0, 0, 0, 0.15);\n",
              "      filter: drop-shadow(0px 1px 2px rgba(0, 0, 0, 0.3));\n",
              "      fill: #FFFFFF;\n",
              "    }\n",
              "  </style>\n",
              "\n",
              "      <script>\n",
              "        const buttonEl =\n",
              "          document.querySelector('#df-3680752a-464c-48ef-a35e-b77eeab93f1e button.colab-df-convert');\n",
              "        buttonEl.style.display =\n",
              "          google.colab.kernel.accessAllowed ? 'block' : 'none';\n",
              "\n",
              "        async function convertToInteractive(key) {\n",
              "          const element = document.querySelector('#df-3680752a-464c-48ef-a35e-b77eeab93f1e');\n",
              "          const dataTable =\n",
              "            await google.colab.kernel.invokeFunction('convertToInteractive',\n",
              "                                                     [key], {});\n",
              "          if (!dataTable) return;\n",
              "\n",
              "          const docLinkHtml = 'Like what you see? Visit the ' +\n",
              "            '<a target=\"_blank\" href=https://colab.research.google.com/notebooks/data_table.ipynb>data table notebook</a>'\n",
              "            + ' to learn more about interactive tables.';\n",
              "          element.innerHTML = '';\n",
              "          dataTable['output_type'] = 'display_data';\n",
              "          await google.colab.output.renderOutput(dataTable, element);\n",
              "          const docLink = document.createElement('div');\n",
              "          docLink.innerHTML = docLinkHtml;\n",
              "          element.appendChild(docLink);\n",
              "        }\n",
              "      </script>\n",
              "    </div>\n",
              "  </div>\n",
              "  "
            ]
          },
          "metadata": {},
          "execution_count": 51
        }
      ],
      "source": [
        "import pandas as pd\n",
        "import pandas_datareader as pdr\n",
        "from datetime import datetime\n",
        "data = pdr.get_data_fred('DEXJPUS', datetime(1990,1,1),datetime(2022,1,1))\n",
        "data.head()"
      ]
    },
    {
      "cell_type": "markdown",
      "metadata": {
        "id": "WtpJC6tZsX2_"
      },
      "source": [
        "## (a) [2 marks]\n",
        "\n",
        "Create a training set (before 2010), a validation set (Jan 2010 to Dec 2015), and a test set (the rest of the data). Turn the time series data into a supervised learning dataset where the features are the value of the exchange rate in the last 10 days inclusive of the current day, and the target is the value of the exchange rate in the next day."
      ]
    },
    {
      "cell_type": "markdown",
      "metadata": {
        "id": "Q9hGTezksX2_"
      },
      "source": [
        "**[Add your solution here]**"
      ]
    },
    {
      "cell_type": "code",
      "source": [
        "def ts_split(ts, feature_steps=10, target_steps=1):\n",
        "    n_obs = len(ts) - feature_steps - target_steps + 1\n",
        "    X = np.array([ts[idx:idx + feature_steps] for idx in range(n_obs)])\n",
        "    y = np.array([ts[idx + feature_steps:idx + feature_steps + target_steps]\n",
        "                  for idx in range(n_obs)])\n",
        "    return X, y"
      ],
      "metadata": {
        "id": "Ql0OJa2OZmCA"
      },
      "execution_count": 52,
      "outputs": []
    },
    {
      "cell_type": "code",
      "source": [
        "import pandas as pd\n",
        "import numpy as np\n",
        "import copy\n",
        "d_train = data[:'2009-12-31'].dropna()\n",
        "d_valid = data['2010-01-01':'2015-12-31'].dropna()\n",
        "d_test = data['2016-01-01':].dropna()"
      ],
      "metadata": {
        "id": "UOEmrJhlZQF1"
      },
      "execution_count": 53,
      "outputs": []
    },
    {
      "cell_type": "code",
      "source": [
        "X_train, y_train = ts_split(d_train.values.flatten())\n",
        "X_valid, y_valid = ts_split(d_valid.values.flatten())\n",
        "X_test, y_test = ts_split(d_test.values.flatten())"
      ],
      "metadata": {
        "id": "iloojp_0Zsvq"
      },
      "execution_count": 54,
      "outputs": []
    },
    {
      "cell_type": "markdown",
      "metadata": {
        "id": "7Ykz4wO1sX2_"
      },
      "source": [
        "## (b) [3 marks]\n",
        "\n",
        "Fit a random forest regressor to predict the value of the exchange rate in the next day. Using the test set, report the mean squared error and the accuracy for the movement direction.\n",
        "\n",
        "Hint: You can calculate the accuracy of the movement direction by determining what the actual movement direction is and comparing it to the movement direction corresponding to the predicted value of the exchange rate. For instance, the movement direction of the test set `X_test` and `y_test` where a strictly up movement is `True` can be computed as follows."
      ]
    },
    {
      "cell_type": "code",
      "execution_count": null,
      "metadata": {
        "id": "hIAQtrZWsX2_"
      },
      "outputs": [],
      "source": [
        "movement_test = X_test[:,-1] < y_test.ravel()"
      ]
    },
    {
      "cell_type": "markdown",
      "metadata": {
        "id": "KbeAQtcVsX2_"
      },
      "source": [
        "**[Add your solution here]**"
      ]
    },
    {
      "cell_type": "code",
      "source": [
        "from sklearn.ensemble import RandomForestRegressor\n",
        "rnd_reg = RandomForestRegressor(random_state=42,n_jobs=-1)\n",
        "rnd_reg.fit(X_train, np.ravel(y_train))"
      ],
      "metadata": {
        "colab": {
          "base_uri": "https://localhost:8080/"
        },
        "id": "-_DwdEy4aqsY",
        "outputId": "1e49299e-45a0-454a-8224-6c2fc7d0bfb4"
      },
      "execution_count": 55,
      "outputs": [
        {
          "output_type": "execute_result",
          "data": {
            "text/plain": [
              "RandomForestRegressor(n_jobs=-1, random_state=42)"
            ]
          },
          "metadata": {},
          "execution_count": 55
        }
      ]
    },
    {
      "cell_type": "code",
      "source": [
        "from sklearn.metrics import mean_squared_error\n",
        "from sklearn.metrics import accuracy_score\n",
        "\n",
        "ypred = rnd_reg.predict(X_test)\n",
        "print(\"Mean squared error is: \", mean_squared_error(y_test, np.ravel(ypred)))\n",
        "movement_test = X_test[:,-1] < y_test.ravel()\n",
        "movement_test_pred = X_test[:,-1] < ypred.ravel()\n",
        "\n",
        "#print(\"accuracy is: \" , accuracy_score(np.diff(np.ravel(y_test))>=0,np.diff(np.ravel(ypred))>=0))\n",
        "\n",
        "print(\"accuracy is: \" , accuracy_score(movement_test, movement_test_pred))\n"
      ],
      "metadata": {
        "colab": {
          "base_uri": "https://localhost:8080/"
        },
        "id": "zJiL75a0bhNV",
        "outputId": "152eb62d-2c39-4400-bc34-199a5f4503e6"
      },
      "execution_count": 56,
      "outputs": [
        {
          "output_type": "stream",
          "name": "stdout",
          "text": [
            "Mean squared error is:  0.37380881968392765\n",
            "accuracy is:  0.5137861466039004\n"
          ]
        }
      ]
    },
    {
      "cell_type": "markdown",
      "metadata": {
        "id": "bH4ymXNwsX2_"
      },
      "source": [
        "## (c) [4 marks]\n",
        "\n",
        "Repeat (b), but now fit a deep RNN with 2 recurrent layers of 20 and 20 neurons, and an output layer which is 1 dense neuron. Use 100 epochs and the Nadam optimizer. Comment on the result and the learning curve (the validation set is used for the learning curve)."
      ]
    },
    {
      "cell_type": "markdown",
      "metadata": {
        "id": "MG_ZIAZSsX2_"
      },
      "source": [
        "**[Add your solution here]**"
      ]
    },
    {
      "cell_type": "code",
      "source": [
        "def reset_session(seed=42):\n",
        "    tf.random.set_seed(seed)\n",
        "    np.random.seed(seed)\n",
        "    tf.keras.backend.clear_session()"
      ],
      "metadata": {
        "id": "3ayMLvfvdI2c"
      },
      "execution_count": 57,
      "outputs": []
    },
    {
      "cell_type": "code",
      "source": [
        "import tensorflow as tf\n",
        "from tensorflow import keras\n",
        "\n",
        "reset_session()\n",
        "\n",
        "keras_model = keras.models.Sequential([\n",
        "    keras.layers.SimpleRNN(20, return_sequences=True, input_shape=[None, 1]),\n",
        "    keras.layers.SimpleRNN(20),\n",
        "    keras.layers.Dense(1)\n",
        "])\n",
        "\n",
        "keras_model.compile(loss=\"mse\", optimizer=\"nadam\")\n",
        "history = keras_model.fit(X_train[..., np.newaxis], y_train, epochs=100,\n",
        "                    validation_data=(X_valid[..., np.newaxis], y_valid), verbose=0)"
      ],
      "metadata": {
        "id": "TNyVdXObCMfg"
      },
      "execution_count": 58,
      "outputs": []
    },
    {
      "cell_type": "code",
      "source": [
        "from sklearn.metrics import mean_squared_error\n",
        "from sklearn.metrics import accuracy_score\n",
        "\n",
        "ypred = keras_model.predict(X_test[..., np.newaxis])\n",
        "print(\"Mean squared error is: \", mean_squared_error(y_test, ypred))\n",
        "movement_test = X_test[:,-1] < y_test.ravel()\n",
        "movement_test_pred = X_test[:,-1] < ypred.ravel()\n",
        "\n",
        "#print(\"accuracy is: \" , accuracy_score(np.diff(np.ravel(y_test))>=0,np.diff(np.ravel(ypred))>=0))\n",
        "\n",
        "print(\"accuracy is: \" , accuracy_score(movement_test, movement_test_pred))\n",
        "\n",
        "#keras_model.evaluate(X_valid, y_valid)"
      ],
      "metadata": {
        "colab": {
          "base_uri": "https://localhost:8080/"
        },
        "id": "bJ0SyGhJCqpm",
        "outputId": "afbf0183-249d-4778-cd15-0a6c377f98c2"
      },
      "execution_count": 59,
      "outputs": [
        {
          "output_type": "stream",
          "name": "stdout",
          "text": [
            "Mean squared error is:  0.4559698234802101\n",
            "accuracy is:  0.4969737726967048\n"
          ]
        }
      ]
    },
    {
      "cell_type": "markdown",
      "source": [
        "This is worse than RandomForestRegressor as the accuracy is lower and mse is higher."
      ],
      "metadata": {
        "id": "K6i3LqtBeA4w"
      }
    },
    {
      "cell_type": "code",
      "source": [
        "import matplotlib as mpl\n",
        "import matplotlib.pyplot as plt\n",
        "\n",
        "def plot_learning_curves(loss, val_loss):\n",
        "    plt.plot(np.arange(len(loss)) + 0.5, loss, \"b.-\", label=\"Training loss\")\n",
        "    plt.plot(np.arange(len(val_loss)) + 1, val_loss, \"r.-\", label=\"Validation loss\")\n",
        "    plt.gca().xaxis.set_major_locator(mpl.ticker.MaxNLocator(integer=True))\n",
        "    plt.axis([1, 100, -1000, 14000])\n",
        "    plt.legend(fontsize=14)\n",
        "    plt.xlabel(\"Epochs\")\n",
        "    plt.ylabel(\"Loss\")\n",
        "    plt.grid(True)\n",
        "plot_learning_curves(history.history[\"loss\"], history.history[\"val_loss\"])\n",
        "plt.show()\n"
      ],
      "metadata": {
        "colab": {
          "base_uri": "https://localhost:8080/",
          "height": 283
        },
        "id": "AA0MbsxTCtgr",
        "outputId": "4ea3fb73-933b-441a-ade6-eb0cbac1404c"
      },
      "execution_count": 60,
      "outputs": [
        {
          "output_type": "display_data",
          "data": {
            "text/plain": [
              "<Figure size 432x288 with 1 Axes>"
            ],
            "image/png": "[encoded data removed]"
          },
          "metadata": {
            "needs_background": "light"
          }
        }
      ]
    },
    {
      "cell_type": "markdown",
      "source": [
        "Model seems to neither underfit nor overfit as the curves overlap towards the end"
      ],
      "metadata": {
        "id": "hTxAV4FdeW6g"
      }
    },
    {
      "cell_type": "markdown",
      "metadata": {
        "id": "0k9LE0insX3A"
      },
      "source": [
        "## (d) [5 marks]\n",
        "\n",
        "Create a supervised learning dataset suitable for predicting 3 days ahead instead of 1 day ahead. Adjust the deep RNN in (c) so that it predicts 3 days ahead. Use 100 epochs and the Nadam optimizer. Using the test set, report the mean squared error and the accuracy for the movement direction for each of the 3 days ahead predictions.  Comment on the result and the learning curve."
      ]
    },
    {
      "cell_type": "markdown",
      "metadata": {
        "id": "IMaf5jdhsX3A"
      },
      "source": [
        "**[Add your solution here]**"
      ]
    },
    {
      "cell_type": "code",
      "source": [
        "X_train_3, y_train_3 = ts_split(d_train.values.flatten(),target_steps=3)\n",
        "X_valid_3, y_valid_3 = ts_split(d_valid.values.flatten(),target_steps=3)\n",
        "X_test_3, y_test_3 = ts_split(d_test.values.flatten(),target_steps=3)\n",
        "\n",
        "reset_session()\n",
        "\n",
        "model_d = keras.models.Sequential([\n",
        "    keras.layers.SimpleRNN(20, return_sequences=True, input_shape=[None, 1]),\n",
        "    keras.layers.SimpleRNN(20, return_sequences=True),\n",
        "    keras.layers.TimeDistributed(keras.layers.Dense(1)),\n",
        "    keras.layers.Lambda(lambda Y_pred: Y_pred[:, -3:])\n",
        "])\n",
        "\n",
        "model_d.compile(loss=\"mse\", optimizer=\"nadam\")\n",
        "model_d_history = model_d.fit(X_train_3, y_train_3, epochs=100,\n",
        "                validation_data=(X_valid_3, y_valid_3), verbose=0)"
      ],
      "metadata": {
        "id": "Upa6fMg2e7Nn"
      },
      "execution_count": 61,
      "outputs": []
    },
    {
      "cell_type": "code",
      "source": [
        "from sklearn.metrics import mean_squared_error\n",
        "from sklearn.metrics import accuracy_score\n",
        "\n",
        "ypred = model_d.predict(X_test_3[...,np.newaxis])[...,0]\n",
        "print(\"Mean squared error is: \", mean_squared_error(y_test_3, ypred, multioutput=\"raw_values\"))\n",
        "\n",
        "\n",
        "#print(\"accuracy is: \" , accuracy_score(np.diff(np.ravel(y_test_3))>=0,np.diff(np.ravel(ypred))>=0))\n",
        "\n",
        "#print(\"accuracy is: \" , accuracy_score(movement_test, movement_test_pred))\n",
        "\n",
        "movement_test_1 = X_test_3[:,-1] < y_test_3[:,0].ravel()\n",
        "movement_test_pred_1 = X_test_3[:,-1] < ypred[:,0].ravel()\n",
        "print(\"accuracy is: \", accuracy_score(movement_test_1, movement_test_pred_1))\n",
        "\n",
        "movement_test_2 = X_test_3[:,-1] < y_test_3[:,1].ravel()\n",
        "movement_test_pred_2 = X_test_3[:,-1] < ypred[:,1].ravel()\n",
        "print(\"accuracy is: \",accuracy_score(movement_test_2, movement_test_pred_2))\n",
        "\n",
        "movement_test_3 = X_test_3[:,-1] < y_test_3[:,2].ravel()\n",
        "movement_test_pred_3 = X_test_3[:,-1] < ypred[:,2].ravel()\n",
        "print(\"accuracy is: \", accuracy_score(movement_test_3, movement_test_pred_3))\n",
        "\n",
        "#model_d.evaluate(X_valid_3, y_valid_3)"
      ],
      "metadata": {
        "colab": {
          "base_uri": "https://localhost:8080/"
        },
        "id": "pUeU6PPtjG8A",
        "outputId": "1b4cbd15-eb79-4e4f-eeac-d70933d45da4"
      },
      "execution_count": null,
      "outputs": [
        {
          "output_type": "stream",
          "name": "stdout",
          "text": [
            "Mean squared error is:  [1.17342239 1.25336965 1.32702782]\n",
            "accuracy is:  0.49023569023569025\n",
            "accuracy is:  0.49764309764309766\n",
            "accuracy is:  0.5050505050505051\n"
          ]
        }
      ]
    },
    {
      "cell_type": "markdown",
      "source": [
        "Looks like the model does not predict the direction of exchange rate well. "
      ],
      "metadata": {
        "id": "_sa7KbFewZ64"
      }
    },
    {
      "cell_type": "code",
      "source": [
        "plot_learning_curves(model_d_history.history[\"loss\"], model_d_history.history[\"val_loss\"])\n",
        "plt.show()"
      ],
      "metadata": {
        "colab": {
          "base_uri": "https://localhost:8080/",
          "height": 283
        },
        "id": "jp83fbptjR8g",
        "outputId": "c6cb8b83-2fd9-40a1-f626-07022309317a"
      },
      "execution_count": null,
      "outputs": [
        {
          "output_type": "display_data",
          "data": {
            "text/plain": [
              "<Figure size 432x288 with 1 Axes>"
            ],
            "image/png": "[encoded data removed]"
          },
          "metadata": {
            "needs_background": "light"
          }
        }
      ]
    },
    {
      "cell_type": "markdown",
      "source": [
        "Model does not overfit as the validation and trainign curves overlap after some epochs."
      ],
      "metadata": {
        "id": "Za2yhDX9vQRv"
      }
    }
  ],
  "metadata": {
    "hide_input": false,
    "kernelspec": {
      "display_name": "Python 3 (ipykernel)",
      "language": "python",
      "name": "python3"
    },
    "language_info": {
      "codemirror_mode": {
        "name": "ipython",
        "version": 3
      },
      "file_extension": ".py",
      "mimetype": "text/x-python",
      "name": "python",
      "nbconvert_exporter": "python",
      "pygments_lexer": "ipython3",
      "version": "3.9.7"
    },
    "latex_envs": {
      "LaTeX_envs_menu_present": true,
      "autoclose": false,
      "autocomplete": false,
      "bibliofile": "biblio.bib",
      "cite_by": "apalike",
      "current_citInitial": 1,
      "eqLabelWithNumbers": true,
      "eqNumInitial": 1,
      "hotkeys": {
        "equation": "Ctrl-E",
        "itemize": "Ctrl-I"
      },
      "labels_anchors": false,
      "latex_user_defs": false,
      "report_style_numbering": false,
      "user_envs_cfg": false
    },
    "toc": {
      "base_numbering": 1,
      "nav_menu": {},
      "number_sections": false,
      "sideBar": true,
      "skip_h1_title": false,
      "title_cell": "Table of Contents",
      "title_sidebar": "Contents",
      "toc_cell": false,
      "toc_position": {},
      "toc_section_display": true,
      "toc_window_display": false
    },
    "varInspector": {
      "cols": {
        "lenName": 16,
        "lenType": 16,
        "lenVar": 40
      },
      "kernels_config": {
        "python": {
          "delete_cmd_postfix": "",
          "delete_cmd_prefix": "del ",
          "library": "var_list.py",
          "varRefreshCmd": "print(var_dic_list())"
        },
        "r": {
          "delete_cmd_postfix": ") ",
          "delete_cmd_prefix": "rm(",
          "library": "var_list.r",
          "varRefreshCmd": "cat(var_dic_list()) "
        }
      },
      "types_to_exclude": [
        "module",
        "function",
        "builtin_function_or_method",
        "instance",
        "_Feature"
      ],
      "window_display": false
    },
    "colab": {
      "name": "RohanTiwari_CFRM521_Homework4.ipynb",
      "provenance": [],
      "toc_visible": true
    }
  },
  "nbformat": 4,
  "nbformat_minor": 0
}